{
 "cells": [
  {
   "cell_type": "code",
   "execution_count": 1,
   "metadata": {},
   "outputs": [],
   "source": [
    "from functools import partial\n",
    "\n",
    "import numpy as np\n",
    "import matplotlib.pyplot as plt\n",
    "import pandas as pd\n",
    "import tensorflow as tf\n",
    "from tensorflow import keras\n",
    "import optuna\n",
    "\n",
    "from preprocessing import _downcast_dtypes, _load_userdf\n",
    "from forecast.main.utils import create_same_length_instances, normalize_data, fill_nulls, create_instances_dl, create_instances_ml, create_random_samples\n",
    "\n",
    "import warnings\n",
    "warnings.simplefilter(\"ignore\")"
   ]
  },
  {
   "cell_type": "markdown",
   "metadata": {},
   "source": [
    "## Loading and preprocessing"
   ]
  },
  {
   "cell_type": "code",
   "execution_count": 3,
   "metadata": {},
   "outputs": [
    {
     "name": "stdout",
     "output_type": "stream",
     "text": [
      "Data shape :(12315, 21, 37)\n",
      "n_instances left = 9736\n"
     ]
    }
   ],
   "source": [
    "# non-binarized labels (with 4)\n",
    "\n",
    "X_data= np.load('./generated-datasets/stress/all_users_stress_8H_7days_dl_instances_X.npy')\n",
    "y_data= np.load('./generated-datasets/stress/all_users_stress_8H_7days_dl_instances_y.npy')\n",
    "\n",
    "print('Data shape :' + str(X_data.shape))\n",
    "\n",
    "\n",
    "#drop neutral\n",
    "\n",
    "neutral_indexes = [i for i, x in enumerate(y_data) if x == 4] \n",
    "new_indexes= [i for i in range(len(y_data)) if i not in neutral_indexes]\n",
    "\n",
    "X=X_data[new_indexes]\n",
    "new_y=y_data[new_indexes]\n",
    "\n",
    "print('n_instances left = ' + str(len(new_y)))\n",
    "\n",
    "\n",
    "#binarize\n",
    "binarize=lambda x : 0 if x < 4 else 1\n",
    "y=[binarize(x) for x in new_y]\n",
    "y=np.array(y)\n"
   ]
  },
  {
   "cell_type": "code",
   "execution_count": 4,
   "metadata": {},
   "outputs": [],
   "source": [
    "import random\n",
    "def create_balanced_test_split(X,y,test_size=1000, seed= 1):\n",
    "    \n",
    "    random.seed(seed)\n",
    "    all_one_indexes = [i for i, x in enumerate(y) if x == 1]\n",
    "    all_zero_indexes = [i for i, x in enumerate(y) if x == 0]\n",
    "    \n",
    "    np.random.shuffle(all_zero_indexes)\n",
    "    np.random.shuffle(all_one_indexes)\n",
    "\n",
    "\n",
    "    train_indexes=all_zero_indexes[int(test_size/2):]+all_one_indexes[int(test_size/2):]\n",
    "    test_indexes= all_zero_indexes[:int(test_size/2)]+all_one_indexes[:int(test_size/2)]\n",
    "\n",
    "    x_train=X[train_indexes]\n",
    "    y_train=y[train_indexes]\n",
    "\n",
    "    x_test=X[test_indexes]\n",
    "    y_test=y[test_indexes]\n",
    "    \n",
    "    return x_train, y_train, x_test, y_test\n",
    "    "
   ]
  },
  {
   "cell_type": "code",
   "execution_count": 5,
   "metadata": {},
   "outputs": [],
   "source": [
    "x_train, y_train, x_test, y_test=create_balanced_test_split(X, y, test_size=1000, seed=1)"
   ]
  },
  {
   "cell_type": "code",
   "execution_count": null,
   "metadata": {},
   "outputs": [],
   "source": [
    "np.save(\"./generated-datasets/happy/happy_8H_7days_x_train.npy\", x_train)\n",
    "np.save(\"./generated-datasets/happy/happy_8H_7days_y_train.npy\", y_train)\n",
    "np.save(\"./generated-datasets/happy/happy_8H_7days_x_test.npy\", x_test)\n",
    "np.save(\"./generated-datasets/happy/happy_8H_7days_y_test.npy\", y_test)"
   ]
  },
  {
   "cell_type": "markdown",
   "metadata": {},
   "source": [
    "## Model architecture"
   ]
  },
  {
   "cell_type": "code",
   "execution_count": 6,
   "metadata": {},
   "outputs": [
    {
     "data": {
      "text/plain": [
       "4457"
      ]
     },
     "execution_count": 6,
     "metadata": {},
     "output_type": "execute_result"
    }
   ],
   "source": [
    "np.sum(y)"
   ]
  },
  {
   "cell_type": "code",
   "execution_count": 7,
   "metadata": {},
   "outputs": [
    {
     "data": {
      "text/plain": [
       "9736"
      ]
     },
     "execution_count": 7,
     "metadata": {},
     "output_type": "execute_result"
    }
   ],
   "source": [
    "len(y)"
   ]
  },
  {
   "cell_type": "code",
   "execution_count": 8,
   "metadata": {},
   "outputs": [],
   "source": [
    "class_weight = {0: 5.425, 1: 1.}"
   ]
  },
  {
   "cell_type": "code",
   "execution_count": 9,
   "metadata": {},
   "outputs": [],
   "source": [
    "from tensorflow.keras.models import Sequential\n",
    "from tensorflow.keras.layers import LSTM\n",
    "from tensorflow.keras.layers import GRU\n",
    "\n",
    "from tensorflow.keras.layers import Dense, Flatten\n",
    "from tensorflow.keras import Input\n",
    "from tensorflow.keras.layers import LayerNormalization\n",
    "from tensorflow.keras.layers import Bidirectional\n",
    "from tensorflow.keras.layers import Dropout"
   ]
  },
  {
   "cell_type": "markdown",
   "metadata": {},
   "source": [
    "## LSTM - 1 layer - 32, 64 or 128 units - with or without Dense Layer and Bidirectionnal"
   ]
  },
  {
   "cell_type": "code",
   "execution_count": 10,
   "metadata": {},
   "outputs": [
    {
     "name": "stdout",
     "output_type": "stream",
     "text": [
      "32\n",
      "0\n",
      "WARNING:tensorflow:Please add `keras.layers.InputLayer` instead of `keras.Input` to Sequential model. `keras.Input` is intended to be used by Functional model.\n",
      "max train accuracy : 0.978708803653717\n",
      "epoch : 52\n",
      "max valid accuracy : 0.7490000128746033\n",
      "epoch : 23\n",
      "1\n",
      "WARNING:tensorflow:Please add `keras.layers.InputLayer` instead of `keras.Input` to Sequential model. `keras.Input` is intended to be used by Functional model.\n",
      "max train accuracy : 0.980998158454895\n",
      "epoch : 55\n",
      "max valid accuracy : 0.7289999723434448\n",
      "epoch : 26\n",
      "2\n",
      "WARNING:tensorflow:Please add `keras.layers.InputLayer` instead of `keras.Input` to Sequential model. `keras.Input` is intended to be used by Functional model.\n",
      "max train accuracy : 0.9726419448852539\n",
      "epoch : 55\n",
      "max valid accuracy : 0.7300000190734863\n",
      "epoch : 27\n",
      "64\n",
      "0\n",
      "WARNING:tensorflow:Please add `keras.layers.InputLayer` instead of `keras.Input` to Sequential model. `keras.Input` is intended to be used by Functional model.\n",
      "max train accuracy : 0.9990842342376709\n",
      "epoch : 55\n",
      "max valid accuracy : 0.7559999823570251\n",
      "epoch : 15\n",
      "1\n",
      "WARNING:tensorflow:Please add `keras.layers.InputLayer` instead of `keras.Input` to Sequential model. `keras.Input` is intended to be used by Functional model.\n",
      "max train accuracy : 0.9988552927970886\n",
      "epoch : 48\n",
      "max valid accuracy : 0.7419999837875366\n",
      "epoch : 39\n",
      "2\n",
      "WARNING:tensorflow:Please add `keras.layers.InputLayer` instead of `keras.Input` to Sequential model. `keras.Input` is intended to be used by Functional model.\n",
      "max train accuracy : 0.9985119104385376\n",
      "epoch : 52\n",
      "max valid accuracy : 0.7570000290870667\n",
      "epoch : 12\n",
      "128\n",
      "0\n",
      "WARNING:tensorflow:Please add `keras.layers.InputLayer` instead of `keras.Input` to Sequential model. `keras.Input` is intended to be used by Functional model.\n",
      "max train accuracy : 0.9993131756782532\n",
      "epoch : 45\n",
      "max valid accuracy : 0.75\n",
      "epoch : 9\n",
      "1\n",
      "WARNING:tensorflow:Please add `keras.layers.InputLayer` instead of `keras.Input` to Sequential model. `keras.Input` is intended to be used by Functional model.\n",
      "max train accuracy : 0.9993131756782532\n",
      "epoch : 49\n",
      "max valid accuracy : 0.753000020980835\n",
      "epoch : 45\n",
      "2\n",
      "WARNING:tensorflow:Please add `keras.layers.InputLayer` instead of `keras.Input` to Sequential model. `keras.Input` is intended to be used by Functional model.\n",
      "max train accuracy : 0.9993131756782532\n",
      "epoch : 55\n",
      "max valid accuracy : 0.7590000033378601\n",
      "epoch : 17\n"
     ]
    }
   ],
   "source": [
    "hist_1_layer=[]\n",
    "\n",
    "for n_unit in [32, 64, 128]:\n",
    "    \n",
    "    print(n_unit)\n",
    "    \n",
    "    \n",
    "    for i in range (3):\n",
    "        \n",
    "        \n",
    "        print(i)\n",
    "        \n",
    "        \n",
    "        model = Sequential()\n",
    "        model.add(Input(shape=X.shape[1:]))\n",
    "        model.add(LSTM(n_unit, activation=\"tanh\"))  #recurrent_dropout=0.25\n",
    "        model.add(Dense(1, activation=\"sigmoid\"))\n",
    "    \n",
    "        model.compile(optimizer = 'adam', loss = 'binary_crossentropy', metrics = ['accuracy'])\n",
    "        \n",
    "        x_train, y_train, x_test, y_test=create_balanced_test_split(X,y,test_size=1000, seed= 1)\n",
    "        \n",
    "        history= model.fit(x=x_train,y=y_train,epochs=55,batch_size=32\n",
    "                           ,validation_data=(x_test, y_test),shuffle=True,verbose=0)\n",
    "        \n",
    "        \n",
    "        print('max train accuracy : ' + str(np.max(history.history['accuracy'])))\n",
    "        print('epoch : ' + str(np.argmax(history.history['accuracy'])+1))\n",
    "\n",
    "        \n",
    "        print('max valid accuracy : ' + str(np.max(history.history['val_accuracy'])))\n",
    "        print('epoch : ' + str(np.argmax(history.history['val_accuracy'])+1))\n",
    "        \n",
    "        \n",
    "        \n",
    "        hist_1_layer.append(history)\n",
    "        "
   ]
  },
  {
   "cell_type": "code",
   "execution_count": 11,
   "metadata": {},
   "outputs": [
    {
     "name": "stdout",
     "output_type": "stream",
     "text": [
      "32\n",
      "0\n",
      "WARNING:tensorflow:Please add `keras.layers.InputLayer` instead of `keras.Input` to Sequential model. `keras.Input` is intended to be used by Functional model.\n",
      "max train accuracy : 0.8115842342376709\n",
      "epoch : 52\n",
      "max valid accuracy : 0.753000020980835\n",
      "epoch : 55\n",
      "1\n",
      "WARNING:tensorflow:Please add `keras.layers.InputLayer` instead of `keras.Input` to Sequential model. `keras.Input` is intended to be used by Functional model.\n",
      "max train accuracy : 0.8099817037582397\n",
      "epoch : 55\n",
      "max valid accuracy : 0.7400000095367432\n",
      "epoch : 45\n",
      "2\n",
      "WARNING:tensorflow:Please add `keras.layers.InputLayer` instead of `keras.Input` to Sequential model. `keras.Input` is intended to be used by Functional model.\n",
      "max train accuracy : 0.8171932101249695\n",
      "epoch : 52\n",
      "max valid accuracy : 0.7599999904632568\n",
      "epoch : 38\n",
      "64\n",
      "0\n",
      "WARNING:tensorflow:Please add `keras.layers.InputLayer` instead of `keras.Input` to Sequential model. `keras.Input` is intended to be used by Functional model.\n",
      "max train accuracy : 0.8803800344467163\n",
      "epoch : 55\n",
      "max valid accuracy : 0.7379999756813049\n",
      "epoch : 50\n",
      "1\n",
      "WARNING:tensorflow:Please add `keras.layers.InputLayer` instead of `keras.Input` to Sequential model. `keras.Input` is intended to be used by Functional model.\n",
      "max train accuracy : 0.8799221515655518\n",
      "epoch : 54\n",
      "max valid accuracy : 0.7450000047683716\n",
      "epoch : 42\n",
      "2\n",
      "WARNING:tensorflow:Please add `keras.layers.InputLayer` instead of `keras.Input` to Sequential model. `keras.Input` is intended to be used by Functional model.\n",
      "max train accuracy : 0.8864468932151794\n",
      "epoch : 55\n",
      "max valid accuracy : 0.7580000162124634\n",
      "epoch : 42\n",
      "128\n",
      "0\n",
      "WARNING:tensorflow:Please add `keras.layers.InputLayer` instead of `keras.Input` to Sequential model. `keras.Input` is intended to be used by Functional model.\n",
      "max train accuracy : 0.9404761791229248\n",
      "epoch : 55\n",
      "max valid accuracy : 0.7580000162124634\n",
      "epoch : 18\n",
      "1\n",
      "WARNING:tensorflow:Please add `keras.layers.InputLayer` instead of `keras.Input` to Sequential model. `keras.Input` is intended to be used by Functional model.\n",
      "max train accuracy : 0.9452838897705078\n",
      "epoch : 53\n",
      "max valid accuracy : 0.7250000238418579\n",
      "epoch : 47\n",
      "2\n",
      "WARNING:tensorflow:Please add `keras.layers.InputLayer` instead of `keras.Input` to Sequential model. `keras.Input` is intended to be used by Functional model.\n",
      "max train accuracy : 0.9391025900840759\n",
      "epoch : 53\n",
      "max valid accuracy : 0.7760000228881836\n",
      "epoch : 17\n"
     ]
    }
   ],
   "source": [
    "hist_1_layer_drop_fc=[]\n",
    "\n",
    "for n_unit in [32, 64, 128]:\n",
    "    \n",
    "    print(n_unit)\n",
    "    \n",
    "    \n",
    "    for i in range (3):\n",
    "        \n",
    "        \n",
    "        print(i)\n",
    "        \n",
    "        \n",
    "        model = Sequential()\n",
    "        model.add(Input(shape=X.shape[1:]))\n",
    "        model.add(LSTM(n_unit, activation=\"tanh\", dropout=0.25, recurrent_dropout=0.25))  #recurrent_dropout=0.25\n",
    "        model.add(Dense(n_unit, activation=\"relu\"))\n",
    "        model.add(Dropout(0.25))\n",
    "\n",
    "        model.add(Dense(1, activation=\"sigmoid\"))\n",
    "    \n",
    "        model.compile(optimizer = 'adam', loss = 'binary_crossentropy', metrics = ['accuracy'])\n",
    "        \n",
    "        x_train, y_train, x_test, y_test=create_balanced_test_split(X,y,test_size=1000, seed= 1)\n",
    "        \n",
    "        history= model.fit(x=x_train,y=y_train,epochs=55,batch_size=32\n",
    "                           ,validation_data=(x_test, y_test),shuffle=True,verbose=0)\n",
    "        \n",
    "        \n",
    "        print('max train accuracy : ' + str(np.max(history.history['accuracy'])))\n",
    "        print('epoch : ' + str(np.argmax(history.history['accuracy'])+1))\n",
    "\n",
    "        \n",
    "        print('max valid accuracy : ' + str(np.max(history.history['val_accuracy'])))\n",
    "        print('epoch : ' + str(np.argmax(history.history['val_accuracy'])+1))\n",
    "        \n",
    "        \n",
    "        \n",
    "        hist_1_layer_drop_fc.append(history)"
   ]
  },
  {
   "cell_type": "code",
   "execution_count": 12,
   "metadata": {},
   "outputs": [
    {
     "name": "stdout",
     "output_type": "stream",
     "text": [
      "32\n",
      "0\n",
      "WARNING:tensorflow:Please add `keras.layers.InputLayer` instead of `keras.Input` to Sequential model. `keras.Input` is intended to be used by Functional model.\n",
      "max train accuracy : 0.865613579750061\n",
      "epoch : 52\n",
      "max valid accuracy : 0.7459999918937683\n",
      "epoch : 23\n",
      "1\n",
      "WARNING:tensorflow:Please add `keras.layers.InputLayer` instead of `keras.Input` to Sequential model. `keras.Input` is intended to be used by Functional model.\n",
      "max train accuracy : 0.8551968932151794\n",
      "epoch : 46\n",
      "max valid accuracy : 0.7580000162124634\n",
      "epoch : 52\n",
      "2\n",
      "WARNING:tensorflow:Please add `keras.layers.InputLayer` instead of `keras.Input` to Sequential model. `keras.Input` is intended to be used by Functional model.\n",
      "max train accuracy : 0.8605769276618958\n",
      "epoch : 55\n",
      "max valid accuracy : 0.7540000081062317\n",
      "epoch : 24\n",
      "64\n",
      "0\n",
      "WARNING:tensorflow:Please add `keras.layers.InputLayer` instead of `keras.Input` to Sequential model. `keras.Input` is intended to be used by Functional model.\n",
      "max train accuracy : 0.9290292859077454\n",
      "epoch : 52\n",
      "max valid accuracy : 0.7419999837875366\n",
      "epoch : 53\n",
      "1\n",
      "WARNING:tensorflow:Please add `keras.layers.InputLayer` instead of `keras.Input` to Sequential model. `keras.Input` is intended to be used by Functional model.\n",
      "max train accuracy : 0.9296016693115234\n",
      "epoch : 55\n",
      "max valid accuracy : 0.7450000047683716\n",
      "epoch : 22\n",
      "2\n",
      "WARNING:tensorflow:Please add `keras.layers.InputLayer` instead of `keras.Input` to Sequential model. `keras.Input` is intended to be used by Functional model.\n",
      "max train accuracy : 0.928113579750061\n",
      "epoch : 52\n",
      "max valid accuracy : 0.7480000257492065\n",
      "epoch : 30\n",
      "128\n",
      "0\n",
      "WARNING:tensorflow:Please add `keras.layers.InputLayer` instead of `keras.Input` to Sequential model. `keras.Input` is intended to be used by Functional model.\n",
      "max train accuracy : 0.9711538553237915\n",
      "epoch : 51\n",
      "max valid accuracy : 0.7239999771118164\n",
      "epoch : 19\n",
      "1\n",
      "WARNING:tensorflow:Please add `keras.layers.InputLayer` instead of `keras.Input` to Sequential model. `keras.Input` is intended to be used by Functional model.\n",
      "max train accuracy : 0.9689789414405823\n",
      "epoch : 54\n",
      "max valid accuracy : 0.7710000276565552\n",
      "epoch : 27\n",
      "2\n",
      "WARNING:tensorflow:Please add `keras.layers.InputLayer` instead of `keras.Input` to Sequential model. `keras.Input` is intended to be used by Functional model.\n",
      "max train accuracy : 0.9692078828811646\n",
      "epoch : 54\n",
      "max valid accuracy : 0.7480000257492065\n",
      "epoch : 15\n"
     ]
    }
   ],
   "source": [
    "hist_1_layer_drop_fc_bi=[]\n",
    "\n",
    "for n_unit in [32, 64, 128]:\n",
    "    \n",
    "    print(n_unit)\n",
    "    \n",
    "    \n",
    "    for i in range (3):\n",
    "        \n",
    "        \n",
    "        print(i)\n",
    "        \n",
    "        \n",
    "        model = Sequential()\n",
    "        model.add(Input(shape=X.shape[1:]))\n",
    "        model.add(Bidirectional(LSTM(n_unit, activation=\"tanh\", dropout=0.25, recurrent_dropout=0.25)))  #recurrent_dropout=0.25\n",
    "        model.add(Dense(n_unit, activation=\"relu\"))\n",
    "        model.add(Dropout(0.25))\n",
    "\n",
    "        model.add(Dense(1, activation=\"sigmoid\"))\n",
    "    \n",
    "        model.compile(optimizer = 'adam', loss = 'binary_crossentropy', metrics = ['accuracy'])\n",
    "        \n",
    "        x_train, y_train, x_test, y_test=create_balanced_test_split(X,y,test_size=1000, seed= 1)\n",
    "        \n",
    "        history= model.fit(x=x_train,y=y_train,epochs=55,batch_size=32\n",
    "                           ,validation_data=(x_test, y_test),shuffle=True,verbose=0)\n",
    "        \n",
    "        \n",
    "        print('max train accuracy : ' + str(np.max(history.history['accuracy'])))\n",
    "        print('epoch : ' + str(np.argmax(history.history['accuracy'])+1))\n",
    "\n",
    "        \n",
    "        print('max valid accuracy : ' + str(np.max(history.history['val_accuracy'])))\n",
    "        print('epoch : ' + str(np.argmax(history.history['val_accuracy'])+1))\n",
    "        \n",
    "        \n",
    "        \n",
    "        hist_1_layer_drop_fc_bi.append(history)"
   ]
  },
  {
   "cell_type": "code",
   "execution_count": 13,
   "metadata": {},
   "outputs": [
    {
     "data": {
      "text/plain": [
       "<BarContainer object of 9 artists>"
      ]
     },
     "execution_count": 13,
     "metadata": {},
     "output_type": "execute_result"
    },
    {
     "data": {
      "image/png": "[encoded data removed]",
      "image/svg+xml": "<?xml version=\"1.0\" encoding=\"utf-8\" standalone=\"no\"?>\r\n<!DOCTYPE svg PUBLIC \"-//W3C//DTD SVG 1.1//EN\"\r\n  \"http://www.w3.org/Graphics/SVG/1.1/DTD/svg11.dtd\">\r\n<svg height=\"405.949687pt\" version=\"1.1\" viewBox=\"0 0 601.665625 405.949687\" width=\"601.665625pt\" xmlns=\"http://www.w3.org/2000/svg\" xmlns:xlink=\"http://www.w3.org/1999/xlink\">\r\n <metadata>\r\n  <rdf:RDF xmlns:cc=\"http://creativecommons.org/ns#\" xmlns:dc=\"http://purl.org/dc/elements/1.1/\" xmlns:rdf=\"http://www.w3.org/1999/02/22-rdf-syntax-ns#\">\r\n   <cc:Work>\r\n    <dc:type rdf:resource=\"http://purl.org/dc/dcmitype/StillImage\"/>\r\n    <dc:date>2021-09-17T17:01:39.362243</dc:date>\r\n    <dc:format>image/svg+xml</dc:format>\r\n    <dc:creator>\r\n     <cc:Agent>\r\n      <dc:title>Matplotlib v3.4.2, https://matplotlib.org/</dc:title>\r\n     </cc:Agent>\r\n    </dc:creator>\r\n   </cc:Work>\r\n  </rdf:RDF>\r\n </metadata>\r\n <defs>\r\n  <style type=\"text/css\">*{stroke-linecap:butt;stroke-linejoin:round;}</style>\r\n </defs>\r\n <g id=\"figure_1\">\r\n  <g id=\"patch_1\">\r\n   <path d=\"M 0 405.949687 \r\nL 601.665625 405.949687 \r\nL 601.665625 0 \r\nL 0 0 \r\nz\r\n\" style=\"fill:none;\"/>\r\n  </g>\r\n  <g id=\"axes_1\">\r\n   <g id=\"patch_2\">\r\n    <path d=\"M 36.465625 348.478125 \r\nL 594.465625 348.478125 \r\nL 594.465625 22.318125 \r\nL 36.465625 22.318125 \r\nz\r\n\" style=\"fill:#ffffff;\"/>\r\n   </g>\r\n   <g id=\"patch_3\">\r\n    <path clip-path=\"url(#p46a4fe59bb)\" d=\"M 61.829261 1761.838125 \r\nL 107.944964 1761.838125 \r\nL 107.944964 161.479722 \r\nL 61.829261 161.479722 \r\nz\r\n\" style=\"fill:#1f77b4;\"/>\r\n   </g>\r\n   <g id=\"patch_4\">\r\n    <path clip-path=\"url(#p46a4fe59bb)\" d=\"M 119.473889 1761.838125 \r\nL 165.589592 1761.838125 \r\nL 165.589592 127.414128 \r\nL 119.473889 127.414128 \r\nz\r\n\" style=\"fill:#1f77b4;\"/>\r\n   </g>\r\n   <g id=\"patch_5\">\r\n    <path clip-path=\"url(#p46a4fe59bb)\" d=\"M 177.118518 1761.838125 \r\nL 223.23422 1761.838125 \r\nL 223.23422 122.340507 \r\nL 177.118518 122.340507 \r\nz\r\n\" style=\"fill:#1f77b4;\"/>\r\n   </g>\r\n   <g id=\"patch_6\">\r\n    <path clip-path=\"url(#p46a4fe59bb)\" d=\"M 234.763146 1761.838125 \r\nL 280.878848 1761.838125 \r\nL 280.878848 128.86371 \r\nL 234.763146 128.86371 \r\nz\r\n\" style=\"fill:#1f77b4;\"/>\r\n   </g>\r\n   <g id=\"patch_7\">\r\n    <path clip-path=\"url(#p46a4fe59bb)\" d=\"M 292.407774 1761.838125 \r\nL 338.523476 1761.838125 \r\nL 338.523476 137.561327 \r\nL 292.407774 137.561327 \r\nz\r\n\" style=\"fill:#1f77b4;\"/>\r\n   </g>\r\n   <g id=\"patch_8\">\r\n    <path clip-path=\"url(#p46a4fe59bb)\" d=\"M 350.052402 1761.838125 \r\nL 396.168104 1761.838125 \r\nL 396.168104 124.514879 \r\nL 350.052402 124.514879 \r\nz\r\n\" style=\"fill:#1f77b4;\"/>\r\n   </g>\r\n   <g id=\"patch_9\">\r\n    <path clip-path=\"url(#p46a4fe59bb)\" d=\"M 407.69703 1761.838125 \r\nL 453.812732 1761.838125 \r\nL 453.812732 125.239713 \r\nL 407.69703 125.239713 \r\nz\r\n\" style=\"fill:#1f77b4;\"/>\r\n   </g>\r\n   <g id=\"patch_10\">\r\n    <path clip-path=\"url(#p46a4fe59bb)\" d=\"M 465.341658 1761.838125 \r\nL 511.457361 1761.838125 \r\nL 511.457361 141.910115 \r\nL 465.341658 141.910115 \r\nz\r\n\" style=\"fill:#1f77b4;\"/>\r\n   </g>\r\n   <g id=\"patch_11\">\r\n    <path clip-path=\"url(#p46a4fe59bb)\" d=\"M 522.986286 1761.838125 \r\nL 569.101989 1761.838125 \r\nL 569.101989 136.111703 \r\nL 522.986286 136.111703 \r\nz\r\n\" style=\"fill:#1f77b4;\"/>\r\n   </g>\r\n   <g id=\"matplotlib.axis_1\">\r\n    <g id=\"xtick_1\">\r\n     <g id=\"line2d_1\">\r\n      <path clip-path=\"url(#p46a4fe59bb)\" d=\"M 84.887113 348.478125 \r\nL 84.887113 22.318125 \r\n\" style=\"fill:none;stroke:#b0b0b0;stroke-linecap:square;stroke-width:0.8;\"/>\r\n     </g>\r\n     <g id=\"line2d_2\">\r\n      <defs>\r\n       <path d=\"M 0 0 \r\nL 0 3.5 \r\n\" id=\"me5713a6a5d\" style=\"stroke:#000000;stroke-width:0.8;\"/>\r\n      </defs>\r\n      <g>\r\n       <use style=\"stroke:#000000;stroke-width:0.8;\" x=\"84.887113\" xlink:href=\"#me5713a6a5d\" y=\"348.478125\"/>\r\n      </g>\r\n     </g>\r\n     <g id=\"text_1\">\r\n      <!-- 32 units -->\r\n      <g transform=\"translate(64.644144 363.076562)scale(0.1 -0.1)\">\r\n       <defs>\r\n        <path d=\"M 2597 2516 \r\nQ 3050 2419 3304 2112 \r\nQ 3559 1806 3559 1356 \r\nQ 3559 666 3084 287 \r\nQ 2609 -91 1734 -91 \r\nQ 1441 -91 1130 -33 \r\nQ 819 25 488 141 \r\nL 488 750 \r\nQ 750 597 1062 519 \r\nQ 1375 441 1716 441 \r\nQ 2309 441 2620 675 \r\nQ 2931 909 2931 1356 \r\nQ 2931 1769 2642 2001 \r\nQ 2353 2234 1838 2234 \r\nL 1294 2234 \r\nL 1294 2753 \r\nL 1863 2753 \r\nQ 2328 2753 2575 2939 \r\nQ 2822 3125 2822 3475 \r\nQ 2822 3834 2567 4026 \r\nQ 2313 4219 1838 4219 \r\nQ 1578 4219 1281 4162 \r\nQ 984 4106 628 3988 \r\nL 628 4550 \r\nQ 988 4650 1302 4700 \r\nQ 1616 4750 1894 4750 \r\nQ 2613 4750 3031 4423 \r\nQ 3450 4097 3450 3541 \r\nQ 3450 3153 3228 2886 \r\nQ 3006 2619 2597 2516 \r\nz\r\n\" id=\"DejaVuSans-33\" transform=\"scale(0.015625)\"/>\r\n        <path d=\"M 1228 531 \r\nL 3431 531 \r\nL 3431 0 \r\nL 469 0 \r\nL 469 531 \r\nQ 828 903 1448 1529 \r\nQ 2069 2156 2228 2338 \r\nQ 2531 2678 2651 2914 \r\nQ 2772 3150 2772 3378 \r\nQ 2772 3750 2511 3984 \r\nQ 2250 4219 1831 4219 \r\nQ 1534 4219 1204 4116 \r\nQ 875 4013 500 3803 \r\nL 500 4441 \r\nQ 881 4594 1212 4672 \r\nQ 1544 4750 1819 4750 \r\nQ 2544 4750 2975 4387 \r\nQ 3406 4025 3406 3419 \r\nQ 3406 3131 3298 2873 \r\nQ 3191 2616 2906 2266 \r\nQ 2828 2175 2409 1742 \r\nQ 1991 1309 1228 531 \r\nz\r\n\" id=\"DejaVuSans-32\" transform=\"scale(0.015625)\"/>\r\n        <path id=\"DejaVuSans-20\" transform=\"scale(0.015625)\"/>\r\n        <path d=\"M 544 1381 \r\nL 544 3500 \r\nL 1119 3500 \r\nL 1119 1403 \r\nQ 1119 906 1312 657 \r\nQ 1506 409 1894 409 \r\nQ 2359 409 2629 706 \r\nQ 2900 1003 2900 1516 \r\nL 2900 3500 \r\nL 3475 3500 \r\nL 3475 0 \r\nL 2900 0 \r\nL 2900 538 \r\nQ 2691 219 2414 64 \r\nQ 2138 -91 1772 -91 \r\nQ 1169 -91 856 284 \r\nQ 544 659 544 1381 \r\nz\r\nM 1991 3584 \r\nL 1991 3584 \r\nz\r\n\" id=\"DejaVuSans-75\" transform=\"scale(0.015625)\"/>\r\n        <path d=\"M 3513 2113 \r\nL 3513 0 \r\nL 2938 0 \r\nL 2938 2094 \r\nQ 2938 2591 2744 2837 \r\nQ 2550 3084 2163 3084 \r\nQ 1697 3084 1428 2787 \r\nQ 1159 2491 1159 1978 \r\nL 1159 0 \r\nL 581 0 \r\nL 581 3500 \r\nL 1159 3500 \r\nL 1159 2956 \r\nQ 1366 3272 1645 3428 \r\nQ 1925 3584 2291 3584 \r\nQ 2894 3584 3203 3211 \r\nQ 3513 2838 3513 2113 \r\nz\r\n\" id=\"DejaVuSans-6e\" transform=\"scale(0.015625)\"/>\r\n        <path d=\"M 603 3500 \r\nL 1178 3500 \r\nL 1178 0 \r\nL 603 0 \r\nL 603 3500 \r\nz\r\nM 603 4863 \r\nL 1178 4863 \r\nL 1178 4134 \r\nL 603 4134 \r\nL 603 4863 \r\nz\r\n\" id=\"DejaVuSans-69\" transform=\"scale(0.015625)\"/>\r\n        <path d=\"M 1172 4494 \r\nL 1172 3500 \r\nL 2356 3500 \r\nL 2356 3053 \r\nL 1172 3053 \r\nL 1172 1153 \r\nQ 1172 725 1289 603 \r\nQ 1406 481 1766 481 \r\nL 2356 481 \r\nL 2356 0 \r\nL 1766 0 \r\nQ 1100 0 847 248 \r\nQ 594 497 594 1153 \r\nL 594 3053 \r\nL 172 3053 \r\nL 172 3500 \r\nL 594 3500 \r\nL 594 4494 \r\nL 1172 4494 \r\nz\r\n\" id=\"DejaVuSans-74\" transform=\"scale(0.015625)\"/>\r\n        <path d=\"M 2834 3397 \r\nL 2834 2853 \r\nQ 2591 2978 2328 3040 \r\nQ 2066 3103 1784 3103 \r\nQ 1356 3103 1142 2972 \r\nQ 928 2841 928 2578 \r\nQ 928 2378 1081 2264 \r\nQ 1234 2150 1697 2047 \r\nL 1894 2003 \r\nQ 2506 1872 2764 1633 \r\nQ 3022 1394 3022 966 \r\nQ 3022 478 2636 193 \r\nQ 2250 -91 1575 -91 \r\nQ 1294 -91 989 -36 \r\nQ 684 19 347 128 \r\nL 347 722 \r\nQ 666 556 975 473 \r\nQ 1284 391 1588 391 \r\nQ 1994 391 2212 530 \r\nQ 2431 669 2431 922 \r\nQ 2431 1156 2273 1281 \r\nQ 2116 1406 1581 1522 \r\nL 1381 1569 \r\nQ 847 1681 609 1914 \r\nQ 372 2147 372 2553 \r\nQ 372 3047 722 3315 \r\nQ 1072 3584 1716 3584 \r\nQ 2034 3584 2315 3537 \r\nQ 2597 3491 2834 3397 \r\nz\r\n\" id=\"DejaVuSans-73\" transform=\"scale(0.015625)\"/>\r\n       </defs>\r\n       <use xlink:href=\"#DejaVuSans-33\"/>\r\n       <use x=\"63.623047\" xlink:href=\"#DejaVuSans-32\"/>\r\n       <use x=\"127.246094\" xlink:href=\"#DejaVuSans-20\"/>\r\n       <use x=\"159.033203\" xlink:href=\"#DejaVuSans-75\"/>\r\n       <use x=\"222.412109\" xlink:href=\"#DejaVuSans-6e\"/>\r\n       <use x=\"285.791016\" xlink:href=\"#DejaVuSans-69\"/>\r\n       <use x=\"313.574219\" xlink:href=\"#DejaVuSans-74\"/>\r\n       <use x=\"352.783203\" xlink:href=\"#DejaVuSans-73\"/>\r\n      </g>\r\n     </g>\r\n    </g>\r\n    <g id=\"xtick_2\">\r\n     <g id=\"line2d_3\">\r\n      <path clip-path=\"url(#p46a4fe59bb)\" d=\"M 142.531741 348.478125 \r\nL 142.531741 22.318125 \r\n\" style=\"fill:none;stroke:#b0b0b0;stroke-linecap:square;stroke-width:0.8;\"/>\r\n     </g>\r\n     <g id=\"line2d_4\">\r\n      <g>\r\n       <use style=\"stroke:#000000;stroke-width:0.8;\" x=\"142.531741\" xlink:href=\"#me5713a6a5d\" y=\"348.478125\"/>\r\n      </g>\r\n     </g>\r\n     <g id=\"text_2\">\r\n      <!-- 64 units -->\r\n      <g transform=\"translate(122.288772 363.076562)scale(0.1 -0.1)\">\r\n       <defs>\r\n        <path d=\"M 2113 2584 \r\nQ 1688 2584 1439 2293 \r\nQ 1191 2003 1191 1497 \r\nQ 1191 994 1439 701 \r\nQ 1688 409 2113 409 \r\nQ 2538 409 2786 701 \r\nQ 3034 994 3034 1497 \r\nQ 3034 2003 2786 2293 \r\nQ 2538 2584 2113 2584 \r\nz\r\nM 3366 4563 \r\nL 3366 3988 \r\nQ 3128 4100 2886 4159 \r\nQ 2644 4219 2406 4219 \r\nQ 1781 4219 1451 3797 \r\nQ 1122 3375 1075 2522 \r\nQ 1259 2794 1537 2939 \r\nQ 1816 3084 2150 3084 \r\nQ 2853 3084 3261 2657 \r\nQ 3669 2231 3669 1497 \r\nQ 3669 778 3244 343 \r\nQ 2819 -91 2113 -91 \r\nQ 1303 -91 875 529 \r\nQ 447 1150 447 2328 \r\nQ 447 3434 972 4092 \r\nQ 1497 4750 2381 4750 \r\nQ 2619 4750 2861 4703 \r\nQ 3103 4656 3366 4563 \r\nz\r\n\" id=\"DejaVuSans-36\" transform=\"scale(0.015625)\"/>\r\n        <path d=\"M 2419 4116 \r\nL 825 1625 \r\nL 2419 1625 \r\nL 2419 4116 \r\nz\r\nM 2253 4666 \r\nL 3047 4666 \r\nL 3047 1625 \r\nL 3713 1625 \r\nL 3713 1100 \r\nL 3047 1100 \r\nL 3047 0 \r\nL 2419 0 \r\nL 2419 1100 \r\nL 313 1100 \r\nL 313 1709 \r\nL 2253 4666 \r\nz\r\n\" id=\"DejaVuSans-34\" transform=\"scale(0.015625)\"/>\r\n       </defs>\r\n       <use xlink:href=\"#DejaVuSans-36\"/>\r\n       <use x=\"63.623047\" xlink:href=\"#DejaVuSans-34\"/>\r\n       <use x=\"127.246094\" xlink:href=\"#DejaVuSans-20\"/>\r\n       <use x=\"159.033203\" xlink:href=\"#DejaVuSans-75\"/>\r\n       <use x=\"222.412109\" xlink:href=\"#DejaVuSans-6e\"/>\r\n       <use x=\"285.791016\" xlink:href=\"#DejaVuSans-69\"/>\r\n       <use x=\"313.574219\" xlink:href=\"#DejaVuSans-74\"/>\r\n       <use x=\"352.783203\" xlink:href=\"#DejaVuSans-73\"/>\r\n      </g>\r\n     </g>\r\n    </g>\r\n    <g id=\"xtick_3\">\r\n     <g id=\"line2d_5\">\r\n      <path clip-path=\"url(#p46a4fe59bb)\" d=\"M 200.176369 348.478125 \r\nL 200.176369 22.318125 \r\n\" style=\"fill:none;stroke:#b0b0b0;stroke-linecap:square;stroke-width:0.8;\"/>\r\n     </g>\r\n     <g id=\"line2d_6\">\r\n      <g>\r\n       <use style=\"stroke:#000000;stroke-width:0.8;\" x=\"200.176369\" xlink:href=\"#me5713a6a5d\" y=\"348.478125\"/>\r\n      </g>\r\n     </g>\r\n     <g id=\"text_3\">\r\n      <!-- 128 units -->\r\n      <g transform=\"translate(176.75215 363.076562)scale(0.1 -0.1)\">\r\n       <defs>\r\n        <path d=\"M 794 531 \r\nL 1825 531 \r\nL 1825 4091 \r\nL 703 3866 \r\nL 703 4441 \r\nL 1819 4666 \r\nL 2450 4666 \r\nL 2450 531 \r\nL 3481 531 \r\nL 3481 0 \r\nL 794 0 \r\nL 794 531 \r\nz\r\n\" id=\"DejaVuSans-31\" transform=\"scale(0.015625)\"/>\r\n        <path d=\"M 2034 2216 \r\nQ 1584 2216 1326 1975 \r\nQ 1069 1734 1069 1313 \r\nQ 1069 891 1326 650 \r\nQ 1584 409 2034 409 \r\nQ 2484 409 2743 651 \r\nQ 3003 894 3003 1313 \r\nQ 3003 1734 2745 1975 \r\nQ 2488 2216 2034 2216 \r\nz\r\nM 1403 2484 \r\nQ 997 2584 770 2862 \r\nQ 544 3141 544 3541 \r\nQ 544 4100 942 4425 \r\nQ 1341 4750 2034 4750 \r\nQ 2731 4750 3128 4425 \r\nQ 3525 4100 3525 3541 \r\nQ 3525 3141 3298 2862 \r\nQ 3072 2584 2669 2484 \r\nQ 3125 2378 3379 2068 \r\nQ 3634 1759 3634 1313 \r\nQ 3634 634 3220 271 \r\nQ 2806 -91 2034 -91 \r\nQ 1263 -91 848 271 \r\nQ 434 634 434 1313 \r\nQ 434 1759 690 2068 \r\nQ 947 2378 1403 2484 \r\nz\r\nM 1172 3481 \r\nQ 1172 3119 1398 2916 \r\nQ 1625 2713 2034 2713 \r\nQ 2441 2713 2670 2916 \r\nQ 2900 3119 2900 3481 \r\nQ 2900 3844 2670 4047 \r\nQ 2441 4250 2034 4250 \r\nQ 1625 4250 1398 4047 \r\nQ 1172 3844 1172 3481 \r\nz\r\n\" id=\"DejaVuSans-38\" transform=\"scale(0.015625)\"/>\r\n       </defs>\r\n       <use xlink:href=\"#DejaVuSans-31\"/>\r\n       <use x=\"63.623047\" xlink:href=\"#DejaVuSans-32\"/>\r\n       <use x=\"127.246094\" xlink:href=\"#DejaVuSans-38\"/>\r\n       <use x=\"190.869141\" xlink:href=\"#DejaVuSans-20\"/>\r\n       <use x=\"222.65625\" xlink:href=\"#DejaVuSans-75\"/>\r\n       <use x=\"286.035156\" xlink:href=\"#DejaVuSans-6e\"/>\r\n       <use x=\"349.414062\" xlink:href=\"#DejaVuSans-69\"/>\r\n       <use x=\"377.197266\" xlink:href=\"#DejaVuSans-74\"/>\r\n       <use x=\"416.40625\" xlink:href=\"#DejaVuSans-73\"/>\r\n      </g>\r\n     </g>\r\n    </g>\r\n    <g id=\"xtick_4\">\r\n     <g id=\"line2d_7\">\r\n      <path clip-path=\"url(#p46a4fe59bb)\" d=\"M 257.820997 348.478125 \r\nL 257.820997 22.318125 \r\n\" style=\"fill:none;stroke:#b0b0b0;stroke-linecap:square;stroke-width:0.8;\"/>\r\n     </g>\r\n     <g id=\"line2d_8\">\r\n      <g>\r\n       <use style=\"stroke:#000000;stroke-width:0.8;\" x=\"257.820997\" xlink:href=\"#me5713a6a5d\" y=\"348.478125\"/>\r\n      </g>\r\n     </g>\r\n     <g id=\"text_4\">\r\n      <!-- 32 units  -->\r\n      <g transform=\"translate(235.988966 363.076562)scale(0.1 -0.1)\">\r\n       <use xlink:href=\"#DejaVuSans-33\"/>\r\n       <use x=\"63.623047\" xlink:href=\"#DejaVuSans-32\"/>\r\n       <use x=\"127.246094\" xlink:href=\"#DejaVuSans-20\"/>\r\n       <use x=\"159.033203\" xlink:href=\"#DejaVuSans-75\"/>\r\n       <use x=\"222.412109\" xlink:href=\"#DejaVuSans-6e\"/>\r\n       <use x=\"285.791016\" xlink:href=\"#DejaVuSans-69\"/>\r\n       <use x=\"313.574219\" xlink:href=\"#DejaVuSans-74\"/>\r\n       <use x=\"352.783203\" xlink:href=\"#DejaVuSans-73\"/>\r\n       <use x=\"404.882812\" xlink:href=\"#DejaVuSans-20\"/>\r\n      </g>\r\n      <!--  Dropout +  -->\r\n      <g transform=\"translate(228.649122 374.274375)scale(0.1 -0.1)\">\r\n       <defs>\r\n        <path d=\"M 1259 4147 \r\nL 1259 519 \r\nL 2022 519 \r\nQ 2988 519 3436 956 \r\nQ 3884 1394 3884 2338 \r\nQ 3884 3275 3436 3711 \r\nQ 2988 4147 2022 4147 \r\nL 1259 4147 \r\nz\r\nM 628 4666 \r\nL 1925 4666 \r\nQ 3281 4666 3915 4102 \r\nQ 4550 3538 4550 2338 \r\nQ 4550 1131 3912 565 \r\nQ 3275 0 1925 0 \r\nL 628 0 \r\nL 628 4666 \r\nz\r\n\" id=\"DejaVuSans-44\" transform=\"scale(0.015625)\"/>\r\n        <path d=\"M 2631 2963 \r\nQ 2534 3019 2420 3045 \r\nQ 2306 3072 2169 3072 \r\nQ 1681 3072 1420 2755 \r\nQ 1159 2438 1159 1844 \r\nL 1159 0 \r\nL 581 0 \r\nL 581 3500 \r\nL 1159 3500 \r\nL 1159 2956 \r\nQ 1341 3275 1631 3429 \r\nQ 1922 3584 2338 3584 \r\nQ 2397 3584 2469 3576 \r\nQ 2541 3569 2628 3553 \r\nL 2631 2963 \r\nz\r\n\" id=\"DejaVuSans-72\" transform=\"scale(0.015625)\"/>\r\n        <path d=\"M 1959 3097 \r\nQ 1497 3097 1228 2736 \r\nQ 959 2375 959 1747 \r\nQ 959 1119 1226 758 \r\nQ 1494 397 1959 397 \r\nQ 2419 397 2687 759 \r\nQ 2956 1122 2956 1747 \r\nQ 2956 2369 2687 2733 \r\nQ 2419 3097 1959 3097 \r\nz\r\nM 1959 3584 \r\nQ 2709 3584 3137 3096 \r\nQ 3566 2609 3566 1747 \r\nQ 3566 888 3137 398 \r\nQ 2709 -91 1959 -91 \r\nQ 1206 -91 779 398 \r\nQ 353 888 353 1747 \r\nQ 353 2609 779 3096 \r\nQ 1206 3584 1959 3584 \r\nz\r\n\" id=\"DejaVuSans-6f\" transform=\"scale(0.015625)\"/>\r\n        <path d=\"M 1159 525 \r\nL 1159 -1331 \r\nL 581 -1331 \r\nL 581 3500 \r\nL 1159 3500 \r\nL 1159 2969 \r\nQ 1341 3281 1617 3432 \r\nQ 1894 3584 2278 3584 \r\nQ 2916 3584 3314 3078 \r\nQ 3713 2572 3713 1747 \r\nQ 3713 922 3314 415 \r\nQ 2916 -91 2278 -91 \r\nQ 1894 -91 1617 61 \r\nQ 1341 213 1159 525 \r\nz\r\nM 3116 1747 \r\nQ 3116 2381 2855 2742 \r\nQ 2594 3103 2138 3103 \r\nQ 1681 3103 1420 2742 \r\nQ 1159 2381 1159 1747 \r\nQ 1159 1113 1420 752 \r\nQ 1681 391 2138 391 \r\nQ 2594 391 2855 752 \r\nQ 3116 1113 3116 1747 \r\nz\r\n\" id=\"DejaVuSans-70\" transform=\"scale(0.015625)\"/>\r\n        <path d=\"M 2944 4013 \r\nL 2944 2272 \r\nL 4684 2272 \r\nL 4684 1741 \r\nL 2944 1741 \r\nL 2944 0 \r\nL 2419 0 \r\nL 2419 1741 \r\nL 678 1741 \r\nL 678 2272 \r\nL 2419 2272 \r\nL 2419 4013 \r\nL 2944 4013 \r\nz\r\n\" id=\"DejaVuSans-2b\" transform=\"scale(0.015625)\"/>\r\n       </defs>\r\n       <use xlink:href=\"#DejaVuSans-20\"/>\r\n       <use x=\"31.787109\" xlink:href=\"#DejaVuSans-44\"/>\r\n       <use x=\"108.789062\" xlink:href=\"#DejaVuSans-72\"/>\r\n       <use x=\"147.652344\" xlink:href=\"#DejaVuSans-6f\"/>\r\n       <use x=\"208.833984\" xlink:href=\"#DejaVuSans-70\"/>\r\n       <use x=\"272.310547\" xlink:href=\"#DejaVuSans-6f\"/>\r\n       <use x=\"333.492188\" xlink:href=\"#DejaVuSans-75\"/>\r\n       <use x=\"396.871094\" xlink:href=\"#DejaVuSans-74\"/>\r\n       <use x=\"436.080078\" xlink:href=\"#DejaVuSans-20\"/>\r\n       <use x=\"467.867188\" xlink:href=\"#DejaVuSans-2b\"/>\r\n       <use x=\"551.65625\" xlink:href=\"#DejaVuSans-20\"/>\r\n      </g>\r\n      <!--  Dense -->\r\n      <g transform=\"translate(240.455372 385.472187)scale(0.1 -0.1)\">\r\n       <defs>\r\n        <path d=\"M 3597 1894 \r\nL 3597 1613 \r\nL 953 1613 \r\nQ 991 1019 1311 708 \r\nQ 1631 397 2203 397 \r\nQ 2534 397 2845 478 \r\nQ 3156 559 3463 722 \r\nL 3463 178 \r\nQ 3153 47 2828 -22 \r\nQ 2503 -91 2169 -91 \r\nQ 1331 -91 842 396 \r\nQ 353 884 353 1716 \r\nQ 353 2575 817 3079 \r\nQ 1281 3584 2069 3584 \r\nQ 2775 3584 3186 3129 \r\nQ 3597 2675 3597 1894 \r\nz\r\nM 3022 2063 \r\nQ 3016 2534 2758 2815 \r\nQ 2500 3097 2075 3097 \r\nQ 1594 3097 1305 2825 \r\nQ 1016 2553 972 2059 \r\nL 3022 2063 \r\nz\r\n\" id=\"DejaVuSans-65\" transform=\"scale(0.015625)\"/>\r\n       </defs>\r\n       <use xlink:href=\"#DejaVuSans-20\"/>\r\n       <use x=\"31.787109\" xlink:href=\"#DejaVuSans-44\"/>\r\n       <use x=\"108.789062\" xlink:href=\"#DejaVuSans-65\"/>\r\n       <use x=\"170.3125\" xlink:href=\"#DejaVuSans-6e\"/>\r\n       <use x=\"233.691406\" xlink:href=\"#DejaVuSans-73\"/>\r\n       <use x=\"285.791016\" xlink:href=\"#DejaVuSans-65\"/>\r\n      </g>\r\n     </g>\r\n    </g>\r\n    <g id=\"xtick_5\">\r\n     <g id=\"line2d_9\">\r\n      <path clip-path=\"url(#p46a4fe59bb)\" d=\"M 315.465625 348.478125 \r\nL 315.465625 22.318125 \r\n\" style=\"fill:none;stroke:#b0b0b0;stroke-linecap:square;stroke-width:0.8;\"/>\r\n     </g>\r\n     <g id=\"line2d_10\">\r\n      <g>\r\n       <use style=\"stroke:#000000;stroke-width:0.8;\" x=\"315.465625\" xlink:href=\"#me5713a6a5d\" y=\"348.478125\"/>\r\n      </g>\r\n     </g>\r\n     <g id=\"text_5\">\r\n      <!-- 64 units  -->\r\n      <g transform=\"translate(293.633594 363.076562)scale(0.1 -0.1)\">\r\n       <use xlink:href=\"#DejaVuSans-36\"/>\r\n       <use x=\"63.623047\" xlink:href=\"#DejaVuSans-34\"/>\r\n       <use x=\"127.246094\" xlink:href=\"#DejaVuSans-20\"/>\r\n       <use x=\"159.033203\" xlink:href=\"#DejaVuSans-75\"/>\r\n       <use x=\"222.412109\" xlink:href=\"#DejaVuSans-6e\"/>\r\n       <use x=\"285.791016\" xlink:href=\"#DejaVuSans-69\"/>\r\n       <use x=\"313.574219\" xlink:href=\"#DejaVuSans-74\"/>\r\n       <use x=\"352.783203\" xlink:href=\"#DejaVuSans-73\"/>\r\n       <use x=\"404.882812\" xlink:href=\"#DejaVuSans-20\"/>\r\n      </g>\r\n      <!--  Dropout +  -->\r\n      <g transform=\"translate(286.29375 374.274375)scale(0.1 -0.1)\">\r\n       <use xlink:href=\"#DejaVuSans-20\"/>\r\n       <use x=\"31.787109\" xlink:href=\"#DejaVuSans-44\"/>\r\n       <use x=\"108.789062\" xlink:href=\"#DejaVuSans-72\"/>\r\n       <use x=\"147.652344\" xlink:href=\"#DejaVuSans-6f\"/>\r\n       <use x=\"208.833984\" xlink:href=\"#DejaVuSans-70\"/>\r\n       <use x=\"272.310547\" xlink:href=\"#DejaVuSans-6f\"/>\r\n       <use x=\"333.492188\" xlink:href=\"#DejaVuSans-75\"/>\r\n       <use x=\"396.871094\" xlink:href=\"#DejaVuSans-74\"/>\r\n       <use x=\"436.080078\" xlink:href=\"#DejaVuSans-20\"/>\r\n       <use x=\"467.867188\" xlink:href=\"#DejaVuSans-2b\"/>\r\n       <use x=\"551.65625\" xlink:href=\"#DejaVuSans-20\"/>\r\n      </g>\r\n      <!--  Dense -->\r\n      <g transform=\"translate(298.1 385.472187)scale(0.1 -0.1)\">\r\n       <use xlink:href=\"#DejaVuSans-20\"/>\r\n       <use x=\"31.787109\" xlink:href=\"#DejaVuSans-44\"/>\r\n       <use x=\"108.789062\" xlink:href=\"#DejaVuSans-65\"/>\r\n       <use x=\"170.3125\" xlink:href=\"#DejaVuSans-6e\"/>\r\n       <use x=\"233.691406\" xlink:href=\"#DejaVuSans-73\"/>\r\n       <use x=\"285.791016\" xlink:href=\"#DejaVuSans-65\"/>\r\n      </g>\r\n     </g>\r\n    </g>\r\n    <g id=\"xtick_6\">\r\n     <g id=\"line2d_11\">\r\n      <path clip-path=\"url(#p46a4fe59bb)\" d=\"M 373.110253 348.478125 \r\nL 373.110253 22.318125 \r\n\" style=\"fill:none;stroke:#b0b0b0;stroke-linecap:square;stroke-width:0.8;\"/>\r\n     </g>\r\n     <g id=\"line2d_12\">\r\n      <g>\r\n       <use style=\"stroke:#000000;stroke-width:0.8;\" x=\"373.110253\" xlink:href=\"#me5713a6a5d\" y=\"348.478125\"/>\r\n      </g>\r\n     </g>\r\n     <g id=\"text_6\">\r\n      <!-- 128 units  -->\r\n      <g transform=\"translate(348.096972 363.076562)scale(0.1 -0.1)\">\r\n       <use xlink:href=\"#DejaVuSans-31\"/>\r\n       <use x=\"63.623047\" xlink:href=\"#DejaVuSans-32\"/>\r\n       <use x=\"127.246094\" xlink:href=\"#DejaVuSans-38\"/>\r\n       <use x=\"190.869141\" xlink:href=\"#DejaVuSans-20\"/>\r\n       <use x=\"222.65625\" xlink:href=\"#DejaVuSans-75\"/>\r\n       <use x=\"286.035156\" xlink:href=\"#DejaVuSans-6e\"/>\r\n       <use x=\"349.414062\" xlink:href=\"#DejaVuSans-69\"/>\r\n       <use x=\"377.197266\" xlink:href=\"#DejaVuSans-74\"/>\r\n       <use x=\"416.40625\" xlink:href=\"#DejaVuSans-73\"/>\r\n       <use x=\"468.505859\" xlink:href=\"#DejaVuSans-20\"/>\r\n      </g>\r\n      <!--  Dropout +  -->\r\n      <g transform=\"translate(343.938378 374.274375)scale(0.1 -0.1)\">\r\n       <use xlink:href=\"#DejaVuSans-20\"/>\r\n       <use x=\"31.787109\" xlink:href=\"#DejaVuSans-44\"/>\r\n       <use x=\"108.789062\" xlink:href=\"#DejaVuSans-72\"/>\r\n       <use x=\"147.652344\" xlink:href=\"#DejaVuSans-6f\"/>\r\n       <use x=\"208.833984\" xlink:href=\"#DejaVuSans-70\"/>\r\n       <use x=\"272.310547\" xlink:href=\"#DejaVuSans-6f\"/>\r\n       <use x=\"333.492188\" xlink:href=\"#DejaVuSans-75\"/>\r\n       <use x=\"396.871094\" xlink:href=\"#DejaVuSans-74\"/>\r\n       <use x=\"436.080078\" xlink:href=\"#DejaVuSans-20\"/>\r\n       <use x=\"467.867188\" xlink:href=\"#DejaVuSans-2b\"/>\r\n       <use x=\"551.65625\" xlink:href=\"#DejaVuSans-20\"/>\r\n      </g>\r\n      <!--  Dense -->\r\n      <g transform=\"translate(355.744628 385.472187)scale(0.1 -0.1)\">\r\n       <use xlink:href=\"#DejaVuSans-20\"/>\r\n       <use x=\"31.787109\" xlink:href=\"#DejaVuSans-44\"/>\r\n       <use x=\"108.789062\" xlink:href=\"#DejaVuSans-65\"/>\r\n       <use x=\"170.3125\" xlink:href=\"#DejaVuSans-6e\"/>\r\n       <use x=\"233.691406\" xlink:href=\"#DejaVuSans-73\"/>\r\n       <use x=\"285.791016\" xlink:href=\"#DejaVuSans-65\"/>\r\n      </g>\r\n     </g>\r\n    </g>\r\n    <g id=\"xtick_7\">\r\n     <g id=\"line2d_13\">\r\n      <path clip-path=\"url(#p46a4fe59bb)\" d=\"M 430.754881 348.478125 \r\nL 430.754881 22.318125 \r\n\" style=\"fill:none;stroke:#b0b0b0;stroke-linecap:square;stroke-width:0.8;\"/>\r\n     </g>\r\n     <g id=\"line2d_14\">\r\n      <g>\r\n       <use style=\"stroke:#000000;stroke-width:0.8;\" x=\"430.754881\" xlink:href=\"#me5713a6a5d\" y=\"348.478125\"/>\r\n      </g>\r\n     </g>\r\n     <g id=\"text_7\">\r\n      <!-- 32 units  -->\r\n      <g transform=\"translate(408.92285 363.076562)scale(0.1 -0.1)\">\r\n       <use xlink:href=\"#DejaVuSans-33\"/>\r\n       <use x=\"63.623047\" xlink:href=\"#DejaVuSans-32\"/>\r\n       <use x=\"127.246094\" xlink:href=\"#DejaVuSans-20\"/>\r\n       <use x=\"159.033203\" xlink:href=\"#DejaVuSans-75\"/>\r\n       <use x=\"222.412109\" xlink:href=\"#DejaVuSans-6e\"/>\r\n       <use x=\"285.791016\" xlink:href=\"#DejaVuSans-69\"/>\r\n       <use x=\"313.574219\" xlink:href=\"#DejaVuSans-74\"/>\r\n       <use x=\"352.783203\" xlink:href=\"#DejaVuSans-73\"/>\r\n       <use x=\"404.882812\" xlink:href=\"#DejaVuSans-20\"/>\r\n      </g>\r\n      <!--  Dropout +  -->\r\n      <g transform=\"translate(401.583006 374.274375)scale(0.1 -0.1)\">\r\n       <use xlink:href=\"#DejaVuSans-20\"/>\r\n       <use x=\"31.787109\" xlink:href=\"#DejaVuSans-44\"/>\r\n       <use x=\"108.789062\" xlink:href=\"#DejaVuSans-72\"/>\r\n       <use x=\"147.652344\" xlink:href=\"#DejaVuSans-6f\"/>\r\n       <use x=\"208.833984\" xlink:href=\"#DejaVuSans-70\"/>\r\n       <use x=\"272.310547\" xlink:href=\"#DejaVuSans-6f\"/>\r\n       <use x=\"333.492188\" xlink:href=\"#DejaVuSans-75\"/>\r\n       <use x=\"396.871094\" xlink:href=\"#DejaVuSans-74\"/>\r\n       <use x=\"436.080078\" xlink:href=\"#DejaVuSans-20\"/>\r\n       <use x=\"467.867188\" xlink:href=\"#DejaVuSans-2b\"/>\r\n       <use x=\"551.65625\" xlink:href=\"#DejaVuSans-20\"/>\r\n      </g>\r\n      <!--   Dense +  -->\r\n      <g transform=\"translate(404.432225 385.472187)scale(0.1 -0.1)\">\r\n       <use xlink:href=\"#DejaVuSans-20\"/>\r\n       <use x=\"31.787109\" xlink:href=\"#DejaVuSans-20\"/>\r\n       <use x=\"63.574219\" xlink:href=\"#DejaVuSans-44\"/>\r\n       <use x=\"140.576172\" xlink:href=\"#DejaVuSans-65\"/>\r\n       <use x=\"202.099609\" xlink:href=\"#DejaVuSans-6e\"/>\r\n       <use x=\"265.478516\" xlink:href=\"#DejaVuSans-73\"/>\r\n       <use x=\"317.578125\" xlink:href=\"#DejaVuSans-65\"/>\r\n       <use x=\"379.101562\" xlink:href=\"#DejaVuSans-20\"/>\r\n       <use x=\"410.888672\" xlink:href=\"#DejaVuSans-2b\"/>\r\n       <use x=\"494.677734\" xlink:href=\"#DejaVuSans-20\"/>\r\n      </g>\r\n      <!--  BiLSTM -->\r\n      <g transform=\"translate(411.018162 396.67)scale(0.1 -0.1)\">\r\n       <defs>\r\n        <path d=\"M 1259 2228 \r\nL 1259 519 \r\nL 2272 519 \r\nQ 2781 519 3026 730 \r\nQ 3272 941 3272 1375 \r\nQ 3272 1813 3026 2020 \r\nQ 2781 2228 2272 2228 \r\nL 1259 2228 \r\nz\r\nM 1259 4147 \r\nL 1259 2741 \r\nL 2194 2741 \r\nQ 2656 2741 2882 2914 \r\nQ 3109 3088 3109 3444 \r\nQ 3109 3797 2882 3972 \r\nQ 2656 4147 2194 4147 \r\nL 1259 4147 \r\nz\r\nM 628 4666 \r\nL 2241 4666 \r\nQ 2963 4666 3353 4366 \r\nQ 3744 4066 3744 3513 \r\nQ 3744 3084 3544 2831 \r\nQ 3344 2578 2956 2516 \r\nQ 3422 2416 3680 2098 \r\nQ 3938 1781 3938 1306 \r\nQ 3938 681 3513 340 \r\nQ 3088 0 2303 0 \r\nL 628 0 \r\nL 628 4666 \r\nz\r\n\" id=\"DejaVuSans-42\" transform=\"scale(0.015625)\"/>\r\n        <path d=\"M 628 4666 \r\nL 1259 4666 \r\nL 1259 531 \r\nL 3531 531 \r\nL 3531 0 \r\nL 628 0 \r\nL 628 4666 \r\nz\r\n\" id=\"DejaVuSans-4c\" transform=\"scale(0.015625)\"/>\r\n        <path d=\"M 3425 4513 \r\nL 3425 3897 \r\nQ 3066 4069 2747 4153 \r\nQ 2428 4238 2131 4238 \r\nQ 1616 4238 1336 4038 \r\nQ 1056 3838 1056 3469 \r\nQ 1056 3159 1242 3001 \r\nQ 1428 2844 1947 2747 \r\nL 2328 2669 \r\nQ 3034 2534 3370 2195 \r\nQ 3706 1856 3706 1288 \r\nQ 3706 609 3251 259 \r\nQ 2797 -91 1919 -91 \r\nQ 1588 -91 1214 -16 \r\nQ 841 59 441 206 \r\nL 441 856 \r\nQ 825 641 1194 531 \r\nQ 1563 422 1919 422 \r\nQ 2459 422 2753 634 \r\nQ 3047 847 3047 1241 \r\nQ 3047 1584 2836 1778 \r\nQ 2625 1972 2144 2069 \r\nL 1759 2144 \r\nQ 1053 2284 737 2584 \r\nQ 422 2884 422 3419 \r\nQ 422 4038 858 4394 \r\nQ 1294 4750 2059 4750 \r\nQ 2388 4750 2728 4690 \r\nQ 3069 4631 3425 4513 \r\nz\r\n\" id=\"DejaVuSans-53\" transform=\"scale(0.015625)\"/>\r\n        <path d=\"M -19 4666 \r\nL 3928 4666 \r\nL 3928 4134 \r\nL 2272 4134 \r\nL 2272 0 \r\nL 1638 0 \r\nL 1638 4134 \r\nL -19 4134 \r\nL -19 4666 \r\nz\r\n\" id=\"DejaVuSans-54\" transform=\"scale(0.015625)\"/>\r\n        <path d=\"M 628 4666 \r\nL 1569 4666 \r\nL 2759 1491 \r\nL 3956 4666 \r\nL 4897 4666 \r\nL 4897 0 \r\nL 4281 0 \r\nL 4281 4097 \r\nL 3078 897 \r\nL 2444 897 \r\nL 1241 4097 \r\nL 1241 0 \r\nL 628 0 \r\nL 628 4666 \r\nz\r\n\" id=\"DejaVuSans-4d\" transform=\"scale(0.015625)\"/>\r\n       </defs>\r\n       <use xlink:href=\"#DejaVuSans-20\"/>\r\n       <use x=\"31.787109\" xlink:href=\"#DejaVuSans-42\"/>\r\n       <use x=\"100.390625\" xlink:href=\"#DejaVuSans-69\"/>\r\n       <use x=\"128.173828\" xlink:href=\"#DejaVuSans-4c\"/>\r\n       <use x=\"183.886719\" xlink:href=\"#DejaVuSans-53\"/>\r\n       <use x=\"247.363281\" xlink:href=\"#DejaVuSans-54\"/>\r\n       <use x=\"308.447266\" xlink:href=\"#DejaVuSans-4d\"/>\r\n      </g>\r\n     </g>\r\n    </g>\r\n    <g id=\"xtick_8\">\r\n     <g id=\"line2d_15\">\r\n      <path clip-path=\"url(#p46a4fe59bb)\" d=\"M 488.399509 348.478125 \r\nL 488.399509 22.318125 \r\n\" style=\"fill:none;stroke:#b0b0b0;stroke-linecap:square;stroke-width:0.8;\"/>\r\n     </g>\r\n     <g id=\"line2d_16\">\r\n      <g>\r\n       <use style=\"stroke:#000000;stroke-width:0.8;\" x=\"488.399509\" xlink:href=\"#me5713a6a5d\" y=\"348.478125\"/>\r\n      </g>\r\n     </g>\r\n     <g id=\"text_8\">\r\n      <!-- 64 units  -->\r\n      <g transform=\"translate(466.567478 363.076562)scale(0.1 -0.1)\">\r\n       <use xlink:href=\"#DejaVuSans-36\"/>\r\n       <use x=\"63.623047\" xlink:href=\"#DejaVuSans-34\"/>\r\n       <use x=\"127.246094\" xlink:href=\"#DejaVuSans-20\"/>\r\n       <use x=\"159.033203\" xlink:href=\"#DejaVuSans-75\"/>\r\n       <use x=\"222.412109\" xlink:href=\"#DejaVuSans-6e\"/>\r\n       <use x=\"285.791016\" xlink:href=\"#DejaVuSans-69\"/>\r\n       <use x=\"313.574219\" xlink:href=\"#DejaVuSans-74\"/>\r\n       <use x=\"352.783203\" xlink:href=\"#DejaVuSans-73\"/>\r\n       <use x=\"404.882812\" xlink:href=\"#DejaVuSans-20\"/>\r\n      </g>\r\n      <!--  Dropout +  -->\r\n      <g transform=\"translate(459.227634 374.274375)scale(0.1 -0.1)\">\r\n       <use xlink:href=\"#DejaVuSans-20\"/>\r\n       <use x=\"31.787109\" xlink:href=\"#DejaVuSans-44\"/>\r\n       <use x=\"108.789062\" xlink:href=\"#DejaVuSans-72\"/>\r\n       <use x=\"147.652344\" xlink:href=\"#DejaVuSans-6f\"/>\r\n       <use x=\"208.833984\" xlink:href=\"#DejaVuSans-70\"/>\r\n       <use x=\"272.310547\" xlink:href=\"#DejaVuSans-6f\"/>\r\n       <use x=\"333.492188\" xlink:href=\"#DejaVuSans-75\"/>\r\n       <use x=\"396.871094\" xlink:href=\"#DejaVuSans-74\"/>\r\n       <use x=\"436.080078\" xlink:href=\"#DejaVuSans-20\"/>\r\n       <use x=\"467.867188\" xlink:href=\"#DejaVuSans-2b\"/>\r\n       <use x=\"551.65625\" xlink:href=\"#DejaVuSans-20\"/>\r\n      </g>\r\n      <!--  Dense +  -->\r\n      <g transform=\"translate(463.665916 385.472187)scale(0.1 -0.1)\">\r\n       <use xlink:href=\"#DejaVuSans-20\"/>\r\n       <use x=\"31.787109\" xlink:href=\"#DejaVuSans-44\"/>\r\n       <use x=\"108.789062\" xlink:href=\"#DejaVuSans-65\"/>\r\n       <use x=\"170.3125\" xlink:href=\"#DejaVuSans-6e\"/>\r\n       <use x=\"233.691406\" xlink:href=\"#DejaVuSans-73\"/>\r\n       <use x=\"285.791016\" xlink:href=\"#DejaVuSans-65\"/>\r\n       <use x=\"347.314453\" xlink:href=\"#DejaVuSans-20\"/>\r\n       <use x=\"379.101562\" xlink:href=\"#DejaVuSans-2b\"/>\r\n       <use x=\"462.890625\" xlink:href=\"#DejaVuSans-20\"/>\r\n      </g>\r\n      <!--  BiLSTM -->\r\n      <g transform=\"translate(468.662791 396.67)scale(0.1 -0.1)\">\r\n       <use xlink:href=\"#DejaVuSans-20\"/>\r\n       <use x=\"31.787109\" xlink:href=\"#DejaVuSans-42\"/>\r\n       <use x=\"100.390625\" xlink:href=\"#DejaVuSans-69\"/>\r\n       <use x=\"128.173828\" xlink:href=\"#DejaVuSans-4c\"/>\r\n       <use x=\"183.886719\" xlink:href=\"#DejaVuSans-53\"/>\r\n       <use x=\"247.363281\" xlink:href=\"#DejaVuSans-54\"/>\r\n       <use x=\"308.447266\" xlink:href=\"#DejaVuSans-4d\"/>\r\n      </g>\r\n     </g>\r\n    </g>\r\n    <g id=\"xtick_9\">\r\n     <g id=\"line2d_17\">\r\n      <path clip-path=\"url(#p46a4fe59bb)\" d=\"M 546.044137 348.478125 \r\nL 546.044137 22.318125 \r\n\" style=\"fill:none;stroke:#b0b0b0;stroke-linecap:square;stroke-width:0.8;\"/>\r\n     </g>\r\n     <g id=\"line2d_18\">\r\n      <g>\r\n       <use style=\"stroke:#000000;stroke-width:0.8;\" x=\"546.044137\" xlink:href=\"#me5713a6a5d\" y=\"348.478125\"/>\r\n      </g>\r\n     </g>\r\n     <g id=\"text_9\">\r\n      <!-- 128 units  -->\r\n      <g transform=\"translate(521.030856 363.076562)scale(0.1 -0.1)\">\r\n       <use xlink:href=\"#DejaVuSans-31\"/>\r\n       <use x=\"63.623047\" xlink:href=\"#DejaVuSans-32\"/>\r\n       <use x=\"127.246094\" xlink:href=\"#DejaVuSans-38\"/>\r\n       <use x=\"190.869141\" xlink:href=\"#DejaVuSans-20\"/>\r\n       <use x=\"222.65625\" xlink:href=\"#DejaVuSans-75\"/>\r\n       <use x=\"286.035156\" xlink:href=\"#DejaVuSans-6e\"/>\r\n       <use x=\"349.414062\" xlink:href=\"#DejaVuSans-69\"/>\r\n       <use x=\"377.197266\" xlink:href=\"#DejaVuSans-74\"/>\r\n       <use x=\"416.40625\" xlink:href=\"#DejaVuSans-73\"/>\r\n       <use x=\"468.505859\" xlink:href=\"#DejaVuSans-20\"/>\r\n      </g>\r\n      <!--  Dropout +  -->\r\n      <g transform=\"translate(516.872262 374.274375)scale(0.1 -0.1)\">\r\n       <use xlink:href=\"#DejaVuSans-20\"/>\r\n       <use x=\"31.787109\" xlink:href=\"#DejaVuSans-44\"/>\r\n       <use x=\"108.789062\" xlink:href=\"#DejaVuSans-72\"/>\r\n       <use x=\"147.652344\" xlink:href=\"#DejaVuSans-6f\"/>\r\n       <use x=\"208.833984\" xlink:href=\"#DejaVuSans-70\"/>\r\n       <use x=\"272.310547\" xlink:href=\"#DejaVuSans-6f\"/>\r\n       <use x=\"333.492188\" xlink:href=\"#DejaVuSans-75\"/>\r\n       <use x=\"396.871094\" xlink:href=\"#DejaVuSans-74\"/>\r\n       <use x=\"436.080078\" xlink:href=\"#DejaVuSans-20\"/>\r\n       <use x=\"467.867188\" xlink:href=\"#DejaVuSans-2b\"/>\r\n       <use x=\"551.65625\" xlink:href=\"#DejaVuSans-20\"/>\r\n      </g>\r\n      <!--  Dense +  -->\r\n      <g transform=\"translate(521.310544 385.472187)scale(0.1 -0.1)\">\r\n       <use xlink:href=\"#DejaVuSans-20\"/>\r\n       <use x=\"31.787109\" xlink:href=\"#DejaVuSans-44\"/>\r\n       <use x=\"108.789062\" xlink:href=\"#DejaVuSans-65\"/>\r\n       <use x=\"170.3125\" xlink:href=\"#DejaVuSans-6e\"/>\r\n       <use x=\"233.691406\" xlink:href=\"#DejaVuSans-73\"/>\r\n       <use x=\"285.791016\" xlink:href=\"#DejaVuSans-65\"/>\r\n       <use x=\"347.314453\" xlink:href=\"#DejaVuSans-20\"/>\r\n       <use x=\"379.101562\" xlink:href=\"#DejaVuSans-2b\"/>\r\n       <use x=\"462.890625\" xlink:href=\"#DejaVuSans-20\"/>\r\n      </g>\r\n      <!--  BiLSTM -->\r\n      <g transform=\"translate(526.307419 396.67)scale(0.1 -0.1)\">\r\n       <use xlink:href=\"#DejaVuSans-20\"/>\r\n       <use x=\"31.787109\" xlink:href=\"#DejaVuSans-42\"/>\r\n       <use x=\"100.390625\" xlink:href=\"#DejaVuSans-69\"/>\r\n       <use x=\"128.173828\" xlink:href=\"#DejaVuSans-4c\"/>\r\n       <use x=\"183.886719\" xlink:href=\"#DejaVuSans-53\"/>\r\n       <use x=\"247.363281\" xlink:href=\"#DejaVuSans-54\"/>\r\n       <use x=\"308.447266\" xlink:href=\"#DejaVuSans-4d\"/>\r\n      </g>\r\n     </g>\r\n    </g>\r\n   </g>\r\n   <g id=\"matplotlib.axis_2\">\r\n    <g id=\"ytick_1\">\r\n     <g id=\"line2d_19\">\r\n      <path clip-path=\"url(#p46a4fe59bb)\" d=\"M 36.465625 326.734125 \r\nL 594.465625 326.734125 \r\n\" style=\"fill:none;stroke:#b0b0b0;stroke-linecap:square;stroke-width:0.8;\"/>\r\n     </g>\r\n     <g id=\"line2d_20\">\r\n      <defs>\r\n       <path d=\"M 0 0 \r\nL -3.5 0 \r\n\" id=\"m5e5e631eaa\" style=\"stroke:#000000;stroke-width:0.8;\"/>\r\n      </defs>\r\n      <g>\r\n       <use style=\"stroke:#000000;stroke-width:0.8;\" x=\"36.465625\" xlink:href=\"#m5e5e631eaa\" y=\"326.734125\"/>\r\n      </g>\r\n     </g>\r\n     <g id=\"text_10\">\r\n      <!-- 0.66 -->\r\n      <g transform=\"translate(7.2 330.533344)scale(0.1 -0.1)\">\r\n       <defs>\r\n        <path d=\"M 2034 4250 \r\nQ 1547 4250 1301 3770 \r\nQ 1056 3291 1056 2328 \r\nQ 1056 1369 1301 889 \r\nQ 1547 409 2034 409 \r\nQ 2525 409 2770 889 \r\nQ 3016 1369 3016 2328 \r\nQ 3016 3291 2770 3770 \r\nQ 2525 4250 2034 4250 \r\nz\r\nM 2034 4750 \r\nQ 2819 4750 3233 4129 \r\nQ 3647 3509 3647 2328 \r\nQ 3647 1150 3233 529 \r\nQ 2819 -91 2034 -91 \r\nQ 1250 -91 836 529 \r\nQ 422 1150 422 2328 \r\nQ 422 3509 836 4129 \r\nQ 1250 4750 2034 4750 \r\nz\r\n\" id=\"DejaVuSans-30\" transform=\"scale(0.015625)\"/>\r\n        <path d=\"M 684 794 \r\nL 1344 794 \r\nL 1344 0 \r\nL 684 0 \r\nL 684 794 \r\nz\r\n\" id=\"DejaVuSans-2e\" transform=\"scale(0.015625)\"/>\r\n       </defs>\r\n       <use xlink:href=\"#DejaVuSans-30\"/>\r\n       <use x=\"63.623047\" xlink:href=\"#DejaVuSans-2e\"/>\r\n       <use x=\"95.410156\" xlink:href=\"#DejaVuSans-36\"/>\r\n       <use x=\"159.033203\" xlink:href=\"#DejaVuSans-36\"/>\r\n      </g>\r\n     </g>\r\n    </g>\r\n    <g id=\"ytick_2\">\r\n     <g id=\"line2d_21\">\r\n      <path clip-path=\"url(#p46a4fe59bb)\" d=\"M 36.465625 283.246125 \r\nL 594.465625 283.246125 \r\n\" style=\"fill:none;stroke:#b0b0b0;stroke-linecap:square;stroke-width:0.8;\"/>\r\n     </g>\r\n     <g id=\"line2d_22\">\r\n      <g>\r\n       <use style=\"stroke:#000000;stroke-width:0.8;\" x=\"36.465625\" xlink:href=\"#m5e5e631eaa\" y=\"283.246125\"/>\r\n      </g>\r\n     </g>\r\n     <g id=\"text_11\">\r\n      <!-- 0.68 -->\r\n      <g transform=\"translate(7.2 287.045344)scale(0.1 -0.1)\">\r\n       <use xlink:href=\"#DejaVuSans-30\"/>\r\n       <use x=\"63.623047\" xlink:href=\"#DejaVuSans-2e\"/>\r\n       <use x=\"95.410156\" xlink:href=\"#DejaVuSans-36\"/>\r\n       <use x=\"159.033203\" xlink:href=\"#DejaVuSans-38\"/>\r\n      </g>\r\n     </g>\r\n    </g>\r\n    <g id=\"ytick_3\">\r\n     <g id=\"line2d_23\">\r\n      <path clip-path=\"url(#p46a4fe59bb)\" d=\"M 36.465625 239.758125 \r\nL 594.465625 239.758125 \r\n\" style=\"fill:none;stroke:#b0b0b0;stroke-linecap:square;stroke-width:0.8;\"/>\r\n     </g>\r\n     <g id=\"line2d_24\">\r\n      <g>\r\n       <use style=\"stroke:#000000;stroke-width:0.8;\" x=\"36.465625\" xlink:href=\"#m5e5e631eaa\" y=\"239.758125\"/>\r\n      </g>\r\n     </g>\r\n     <g id=\"text_12\">\r\n      <!-- 0.70 -->\r\n      <g transform=\"translate(7.2 243.557344)scale(0.1 -0.1)\">\r\n       <defs>\r\n        <path d=\"M 525 4666 \r\nL 3525 4666 \r\nL 3525 4397 \r\nL 1831 0 \r\nL 1172 0 \r\nL 2766 4134 \r\nL 525 4134 \r\nL 525 4666 \r\nz\r\n\" id=\"DejaVuSans-37\" transform=\"scale(0.015625)\"/>\r\n       </defs>\r\n       <use xlink:href=\"#DejaVuSans-30\"/>\r\n       <use x=\"63.623047\" xlink:href=\"#DejaVuSans-2e\"/>\r\n       <use x=\"95.410156\" xlink:href=\"#DejaVuSans-37\"/>\r\n       <use x=\"159.033203\" xlink:href=\"#DejaVuSans-30\"/>\r\n      </g>\r\n     </g>\r\n    </g>\r\n    <g id=\"ytick_4\">\r\n     <g id=\"line2d_25\">\r\n      <path clip-path=\"url(#p46a4fe59bb)\" d=\"M 36.465625 196.270125 \r\nL 594.465625 196.270125 \r\n\" style=\"fill:none;stroke:#b0b0b0;stroke-linecap:square;stroke-width:0.8;\"/>\r\n     </g>\r\n     <g id=\"line2d_26\">\r\n      <g>\r\n       <use style=\"stroke:#000000;stroke-width:0.8;\" x=\"36.465625\" xlink:href=\"#m5e5e631eaa\" y=\"196.270125\"/>\r\n      </g>\r\n     </g>\r\n     <g id=\"text_13\">\r\n      <!-- 0.72 -->\r\n      <g transform=\"translate(7.2 200.069344)scale(0.1 -0.1)\">\r\n       <use xlink:href=\"#DejaVuSans-30\"/>\r\n       <use x=\"63.623047\" xlink:href=\"#DejaVuSans-2e\"/>\r\n       <use x=\"95.410156\" xlink:href=\"#DejaVuSans-37\"/>\r\n       <use x=\"159.033203\" xlink:href=\"#DejaVuSans-32\"/>\r\n      </g>\r\n     </g>\r\n    </g>\r\n    <g id=\"ytick_5\">\r\n     <g id=\"line2d_27\">\r\n      <path clip-path=\"url(#p46a4fe59bb)\" d=\"M 36.465625 152.782125 \r\nL 594.465625 152.782125 \r\n\" style=\"fill:none;stroke:#b0b0b0;stroke-linecap:square;stroke-width:0.8;\"/>\r\n     </g>\r\n     <g id=\"line2d_28\">\r\n      <g>\r\n       <use style=\"stroke:#000000;stroke-width:0.8;\" x=\"36.465625\" xlink:href=\"#m5e5e631eaa\" y=\"152.782125\"/>\r\n      </g>\r\n     </g>\r\n     <g id=\"text_14\">\r\n      <!-- 0.74 -->\r\n      <g transform=\"translate(7.2 156.581344)scale(0.1 -0.1)\">\r\n       <use xlink:href=\"#DejaVuSans-30\"/>\r\n       <use x=\"63.623047\" xlink:href=\"#DejaVuSans-2e\"/>\r\n       <use x=\"95.410156\" xlink:href=\"#DejaVuSans-37\"/>\r\n       <use x=\"159.033203\" xlink:href=\"#DejaVuSans-34\"/>\r\n      </g>\r\n     </g>\r\n    </g>\r\n    <g id=\"ytick_6\">\r\n     <g id=\"line2d_29\">\r\n      <path clip-path=\"url(#p46a4fe59bb)\" d=\"M 36.465625 109.294125 \r\nL 594.465625 109.294125 \r\n\" style=\"fill:none;stroke:#b0b0b0;stroke-linecap:square;stroke-width:0.8;\"/>\r\n     </g>\r\n     <g id=\"line2d_30\">\r\n      <g>\r\n       <use style=\"stroke:#000000;stroke-width:0.8;\" x=\"36.465625\" xlink:href=\"#m5e5e631eaa\" y=\"109.294125\"/>\r\n      </g>\r\n     </g>\r\n     <g id=\"text_15\">\r\n      <!-- 0.76 -->\r\n      <g transform=\"translate(7.2 113.093344)scale(0.1 -0.1)\">\r\n       <use xlink:href=\"#DejaVuSans-30\"/>\r\n       <use x=\"63.623047\" xlink:href=\"#DejaVuSans-2e\"/>\r\n       <use x=\"95.410156\" xlink:href=\"#DejaVuSans-37\"/>\r\n       <use x=\"159.033203\" xlink:href=\"#DejaVuSans-36\"/>\r\n      </g>\r\n     </g>\r\n    </g>\r\n    <g id=\"ytick_7\">\r\n     <g id=\"line2d_31\">\r\n      <path clip-path=\"url(#p46a4fe59bb)\" d=\"M 36.465625 65.806125 \r\nL 594.465625 65.806125 \r\n\" style=\"fill:none;stroke:#b0b0b0;stroke-linecap:square;stroke-width:0.8;\"/>\r\n     </g>\r\n     <g id=\"line2d_32\">\r\n      <g>\r\n       <use style=\"stroke:#000000;stroke-width:0.8;\" x=\"36.465625\" xlink:href=\"#m5e5e631eaa\" y=\"65.806125\"/>\r\n      </g>\r\n     </g>\r\n     <g id=\"text_16\">\r\n      <!-- 0.78 -->\r\n      <g transform=\"translate(7.2 69.605344)scale(0.1 -0.1)\">\r\n       <use xlink:href=\"#DejaVuSans-30\"/>\r\n       <use x=\"63.623047\" xlink:href=\"#DejaVuSans-2e\"/>\r\n       <use x=\"95.410156\" xlink:href=\"#DejaVuSans-37\"/>\r\n       <use x=\"159.033203\" xlink:href=\"#DejaVuSans-38\"/>\r\n      </g>\r\n     </g>\r\n    </g>\r\n    <g id=\"ytick_8\">\r\n     <g id=\"line2d_33\">\r\n      <path clip-path=\"url(#p46a4fe59bb)\" d=\"M 36.465625 22.318125 \r\nL 594.465625 22.318125 \r\n\" style=\"fill:none;stroke:#b0b0b0;stroke-linecap:square;stroke-width:0.8;\"/>\r\n     </g>\r\n     <g id=\"line2d_34\">\r\n      <g>\r\n       <use style=\"stroke:#000000;stroke-width:0.8;\" x=\"36.465625\" xlink:href=\"#m5e5e631eaa\" y=\"22.318125\"/>\r\n      </g>\r\n     </g>\r\n     <g id=\"text_17\">\r\n      <!-- 0.80 -->\r\n      <g transform=\"translate(7.2 26.117344)scale(0.1 -0.1)\">\r\n       <use xlink:href=\"#DejaVuSans-30\"/>\r\n       <use x=\"63.623047\" xlink:href=\"#DejaVuSans-2e\"/>\r\n       <use x=\"95.410156\" xlink:href=\"#DejaVuSans-38\"/>\r\n       <use x=\"159.033203\" xlink:href=\"#DejaVuSans-30\"/>\r\n      </g>\r\n     </g>\r\n    </g>\r\n   </g>\r\n   <g id=\"LineCollection_1\">\r\n    <path clip-path=\"url(#p46a4fe59bb)\" d=\"M 84.887113 181.487372 \r\nL 84.887113 141.472071 \r\n\" style=\"fill:none;stroke:#000000;stroke-width:1.5;\"/>\r\n    <path clip-path=\"url(#p46a4fe59bb)\" d=\"M 142.531741 142.303458 \r\nL 142.531741 112.524799 \r\n\" style=\"fill:none;stroke:#000000;stroke-width:1.5;\"/>\r\n    <path clip-path=\"url(#p46a4fe59bb)\" d=\"M 200.176369 130.476366 \r\nL 200.176369 114.204648 \r\n\" style=\"fill:none;stroke:#000000;stroke-width:1.5;\"/>\r\n    <path clip-path=\"url(#p46a4fe59bb)\" d=\"M 257.820997 146.881939 \r\nL 257.820997 110.845481 \r\n\" style=\"fill:none;stroke:#000000;stroke-width:1.5;\"/>\r\n    <path clip-path=\"url(#p46a4fe59bb)\" d=\"M 315.465625 155.579604 \r\nL 315.465625 119.543051 \r\n\" style=\"fill:none;stroke:#000000;stroke-width:1.5;\"/>\r\n    <path clip-path=\"url(#p46a4fe59bb)\" d=\"M 373.110253 170.435405 \r\nL 373.110253 78.594354 \r\n\" style=\"fill:none;stroke:#000000;stroke-width:1.5;\"/>\r\n    <path clip-path=\"url(#p46a4fe59bb)\" d=\"M 430.754881 136.087548 \r\nL 430.754881 114.391878 \r\n\" style=\"fill:none;stroke:#000000;stroke-width:1.5;\"/>\r\n    <path clip-path=\"url(#p46a4fe59bb)\" d=\"M 488.399509 147.236322 \r\nL 488.399509 136.583907 \r\n\" style=\"fill:none;stroke:#000000;stroke-width:1.5;\"/>\r\n    <path clip-path=\"url(#p46a4fe59bb)\" d=\"M 546.044137 177.836565 \r\nL 546.044137 94.386841 \r\n\" style=\"fill:none;stroke:#000000;stroke-width:1.5;\"/>\r\n   </g>\r\n   <g id=\"patch_12\">\r\n    <path d=\"M 36.465625 348.478125 \r\nL 36.465625 22.318125 \r\n\" style=\"fill:none;stroke:#000000;stroke-linecap:square;stroke-linejoin:miter;stroke-width:0.8;\"/>\r\n   </g>\r\n   <g id=\"patch_13\">\r\n    <path d=\"M 594.465625 348.478125 \r\nL 594.465625 22.318125 \r\n\" style=\"fill:none;stroke:#000000;stroke-linecap:square;stroke-linejoin:miter;stroke-width:0.8;\"/>\r\n   </g>\r\n   <g id=\"patch_14\">\r\n    <path d=\"M 36.465625 348.478125 \r\nL 594.465625 348.478125 \r\n\" style=\"fill:none;stroke:#000000;stroke-linecap:square;stroke-linejoin:miter;stroke-width:0.8;\"/>\r\n   </g>\r\n   <g id=\"patch_15\">\r\n    <path d=\"M 36.465625 22.318125 \r\nL 594.465625 22.318125 \r\n\" style=\"fill:none;stroke:#000000;stroke-linecap:square;stroke-linejoin:miter;stroke-width:0.8;\"/>\r\n   </g>\r\n   <g id=\"text_18\">\r\n    <!-- Mean Performance of 1 layer LSTM (3 fold) - 8h - 7days -->\r\n    <g transform=\"translate(149.786875 16.318125)scale(0.12 -0.12)\">\r\n     <defs>\r\n      <path d=\"M 2194 1759 \r\nQ 1497 1759 1228 1600 \r\nQ 959 1441 959 1056 \r\nQ 959 750 1161 570 \r\nQ 1363 391 1709 391 \r\nQ 2188 391 2477 730 \r\nQ 2766 1069 2766 1631 \r\nL 2766 1759 \r\nL 2194 1759 \r\nz\r\nM 3341 1997 \r\nL 3341 0 \r\nL 2766 0 \r\nL 2766 531 \r\nQ 2569 213 2275 61 \r\nQ 1981 -91 1556 -91 \r\nQ 1019 -91 701 211 \r\nQ 384 513 384 1019 \r\nQ 384 1609 779 1909 \r\nQ 1175 2209 1959 2209 \r\nL 2766 2209 \r\nL 2766 2266 \r\nQ 2766 2663 2505 2880 \r\nQ 2244 3097 1772 3097 \r\nQ 1472 3097 1187 3025 \r\nQ 903 2953 641 2809 \r\nL 641 3341 \r\nQ 956 3463 1253 3523 \r\nQ 1550 3584 1831 3584 \r\nQ 2591 3584 2966 3190 \r\nQ 3341 2797 3341 1997 \r\nz\r\n\" id=\"DejaVuSans-61\" transform=\"scale(0.015625)\"/>\r\n      <path d=\"M 1259 4147 \r\nL 1259 2394 \r\nL 2053 2394 \r\nQ 2494 2394 2734 2622 \r\nQ 2975 2850 2975 3272 \r\nQ 2975 3691 2734 3919 \r\nQ 2494 4147 2053 4147 \r\nL 1259 4147 \r\nz\r\nM 628 4666 \r\nL 2053 4666 \r\nQ 2838 4666 3239 4311 \r\nQ 3641 3956 3641 3272 \r\nQ 3641 2581 3239 2228 \r\nQ 2838 1875 2053 1875 \r\nL 1259 1875 \r\nL 1259 0 \r\nL 628 0 \r\nL 628 4666 \r\nz\r\n\" id=\"DejaVuSans-50\" transform=\"scale(0.015625)\"/>\r\n      <path d=\"M 2375 4863 \r\nL 2375 4384 \r\nL 1825 4384 \r\nQ 1516 4384 1395 4259 \r\nQ 1275 4134 1275 3809 \r\nL 1275 3500 \r\nL 2222 3500 \r\nL 2222 3053 \r\nL 1275 3053 \r\nL 1275 0 \r\nL 697 0 \r\nL 697 3053 \r\nL 147 3053 \r\nL 147 3500 \r\nL 697 3500 \r\nL 697 3744 \r\nQ 697 4328 969 4595 \r\nQ 1241 4863 1831 4863 \r\nL 2375 4863 \r\nz\r\n\" id=\"DejaVuSans-66\" transform=\"scale(0.015625)\"/>\r\n      <path d=\"M 3328 2828 \r\nQ 3544 3216 3844 3400 \r\nQ 4144 3584 4550 3584 \r\nQ 5097 3584 5394 3201 \r\nQ 5691 2819 5691 2113 \r\nL 5691 0 \r\nL 5113 0 \r\nL 5113 2094 \r\nQ 5113 2597 4934 2840 \r\nQ 4756 3084 4391 3084 \r\nQ 3944 3084 3684 2787 \r\nQ 3425 2491 3425 1978 \r\nL 3425 0 \r\nL 2847 0 \r\nL 2847 2094 \r\nQ 2847 2600 2669 2842 \r\nQ 2491 3084 2119 3084 \r\nQ 1678 3084 1418 2786 \r\nQ 1159 2488 1159 1978 \r\nL 1159 0 \r\nL 581 0 \r\nL 581 3500 \r\nL 1159 3500 \r\nL 1159 2956 \r\nQ 1356 3278 1631 3431 \r\nQ 1906 3584 2284 3584 \r\nQ 2666 3584 2933 3390 \r\nQ 3200 3197 3328 2828 \r\nz\r\n\" id=\"DejaVuSans-6d\" transform=\"scale(0.015625)\"/>\r\n      <path d=\"M 3122 3366 \r\nL 3122 2828 \r\nQ 2878 2963 2633 3030 \r\nQ 2388 3097 2138 3097 \r\nQ 1578 3097 1268 2742 \r\nQ 959 2388 959 1747 \r\nQ 959 1106 1268 751 \r\nQ 1578 397 2138 397 \r\nQ 2388 397 2633 464 \r\nQ 2878 531 3122 666 \r\nL 3122 134 \r\nQ 2881 22 2623 -34 \r\nQ 2366 -91 2075 -91 \r\nQ 1284 -91 818 406 \r\nQ 353 903 353 1747 \r\nQ 353 2603 823 3093 \r\nQ 1294 3584 2113 3584 \r\nQ 2378 3584 2631 3529 \r\nQ 2884 3475 3122 3366 \r\nz\r\n\" id=\"DejaVuSans-63\" transform=\"scale(0.015625)\"/>\r\n      <path d=\"M 603 4863 \r\nL 1178 4863 \r\nL 1178 0 \r\nL 603 0 \r\nL 603 4863 \r\nz\r\n\" id=\"DejaVuSans-6c\" transform=\"scale(0.015625)\"/>\r\n      <path d=\"M 2059 -325 \r\nQ 1816 -950 1584 -1140 \r\nQ 1353 -1331 966 -1331 \r\nL 506 -1331 \r\nL 506 -850 \r\nL 844 -850 \r\nQ 1081 -850 1212 -737 \r\nQ 1344 -625 1503 -206 \r\nL 1606 56 \r\nL 191 3500 \r\nL 800 3500 \r\nL 1894 763 \r\nL 2988 3500 \r\nL 3597 3500 \r\nL 2059 -325 \r\nz\r\n\" id=\"DejaVuSans-79\" transform=\"scale(0.015625)\"/>\r\n      <path d=\"M 1984 4856 \r\nQ 1566 4138 1362 3434 \r\nQ 1159 2731 1159 2009 \r\nQ 1159 1288 1364 580 \r\nQ 1569 -128 1984 -844 \r\nL 1484 -844 \r\nQ 1016 -109 783 600 \r\nQ 550 1309 550 2009 \r\nQ 550 2706 781 3412 \r\nQ 1013 4119 1484 4856 \r\nL 1984 4856 \r\nz\r\n\" id=\"DejaVuSans-28\" transform=\"scale(0.015625)\"/>\r\n      <path d=\"M 2906 2969 \r\nL 2906 4863 \r\nL 3481 4863 \r\nL 3481 0 \r\nL 2906 0 \r\nL 2906 525 \r\nQ 2725 213 2448 61 \r\nQ 2172 -91 1784 -91 \r\nQ 1150 -91 751 415 \r\nQ 353 922 353 1747 \r\nQ 353 2572 751 3078 \r\nQ 1150 3584 1784 3584 \r\nQ 2172 3584 2448 3432 \r\nQ 2725 3281 2906 2969 \r\nz\r\nM 947 1747 \r\nQ 947 1113 1208 752 \r\nQ 1469 391 1925 391 \r\nQ 2381 391 2643 752 \r\nQ 2906 1113 2906 1747 \r\nQ 2906 2381 2643 2742 \r\nQ 2381 3103 1925 3103 \r\nQ 1469 3103 1208 2742 \r\nQ 947 2381 947 1747 \r\nz\r\n\" id=\"DejaVuSans-64\" transform=\"scale(0.015625)\"/>\r\n      <path d=\"M 513 4856 \r\nL 1013 4856 \r\nQ 1481 4119 1714 3412 \r\nQ 1947 2706 1947 2009 \r\nQ 1947 1309 1714 600 \r\nQ 1481 -109 1013 -844 \r\nL 513 -844 \r\nQ 928 -128 1133 580 \r\nQ 1338 1288 1338 2009 \r\nQ 1338 2731 1133 3434 \r\nQ 928 4138 513 4856 \r\nz\r\n\" id=\"DejaVuSans-29\" transform=\"scale(0.015625)\"/>\r\n      <path d=\"M 313 2009 \r\nL 1997 2009 \r\nL 1997 1497 \r\nL 313 1497 \r\nL 313 2009 \r\nz\r\n\" id=\"DejaVuSans-2d\" transform=\"scale(0.015625)\"/>\r\n      <path d=\"M 3513 2113 \r\nL 3513 0 \r\nL 2938 0 \r\nL 2938 2094 \r\nQ 2938 2591 2744 2837 \r\nQ 2550 3084 2163 3084 \r\nQ 1697 3084 1428 2787 \r\nQ 1159 2491 1159 1978 \r\nL 1159 0 \r\nL 581 0 \r\nL 581 4863 \r\nL 1159 4863 \r\nL 1159 2956 \r\nQ 1366 3272 1645 3428 \r\nQ 1925 3584 2291 3584 \r\nQ 2894 3584 3203 3211 \r\nQ 3513 2838 3513 2113 \r\nz\r\n\" id=\"DejaVuSans-68\" transform=\"scale(0.015625)\"/>\r\n     </defs>\r\n     <use xlink:href=\"#DejaVuSans-4d\"/>\r\n     <use x=\"86.279297\" xlink:href=\"#DejaVuSans-65\"/>\r\n     <use x=\"147.802734\" xlink:href=\"#DejaVuSans-61\"/>\r\n     <use x=\"209.082031\" xlink:href=\"#DejaVuSans-6e\"/>\r\n     <use x=\"272.460938\" xlink:href=\"#DejaVuSans-20\"/>\r\n     <use x=\"304.248047\" xlink:href=\"#DejaVuSans-50\"/>\r\n     <use x=\"360.925781\" xlink:href=\"#DejaVuSans-65\"/>\r\n     <use x=\"422.449219\" xlink:href=\"#DejaVuSans-72\"/>\r\n     <use x=\"463.5625\" xlink:href=\"#DejaVuSans-66\"/>\r\n     <use x=\"498.767578\" xlink:href=\"#DejaVuSans-6f\"/>\r\n     <use x=\"559.949219\" xlink:href=\"#DejaVuSans-72\"/>\r\n     <use x=\"599.3125\" xlink:href=\"#DejaVuSans-6d\"/>\r\n     <use x=\"696.724609\" xlink:href=\"#DejaVuSans-61\"/>\r\n     <use x=\"758.003906\" xlink:href=\"#DejaVuSans-6e\"/>\r\n     <use x=\"821.382812\" xlink:href=\"#DejaVuSans-63\"/>\r\n     <use x=\"876.363281\" xlink:href=\"#DejaVuSans-65\"/>\r\n     <use x=\"937.886719\" xlink:href=\"#DejaVuSans-20\"/>\r\n     <use x=\"969.673828\" xlink:href=\"#DejaVuSans-6f\"/>\r\n     <use x=\"1030.855469\" xlink:href=\"#DejaVuSans-66\"/>\r\n     <use x=\"1066.060547\" xlink:href=\"#DejaVuSans-20\"/>\r\n     <use x=\"1097.847656\" xlink:href=\"#DejaVuSans-31\"/>\r\n     <use x=\"1161.470703\" xlink:href=\"#DejaVuSans-20\"/>\r\n     <use x=\"1193.257812\" xlink:href=\"#DejaVuSans-6c\"/>\r\n     <use x=\"1221.041016\" xlink:href=\"#DejaVuSans-61\"/>\r\n     <use x=\"1282.320312\" xlink:href=\"#DejaVuSans-79\"/>\r\n     <use x=\"1341.5\" xlink:href=\"#DejaVuSans-65\"/>\r\n     <use x=\"1403.023438\" xlink:href=\"#DejaVuSans-72\"/>\r\n     <use x=\"1444.136719\" xlink:href=\"#DejaVuSans-20\"/>\r\n     <use x=\"1475.923828\" xlink:href=\"#DejaVuSans-4c\"/>\r\n     <use x=\"1531.636719\" xlink:href=\"#DejaVuSans-53\"/>\r\n     <use x=\"1595.113281\" xlink:href=\"#DejaVuSans-54\"/>\r\n     <use x=\"1656.197266\" xlink:href=\"#DejaVuSans-4d\"/>\r\n     <use x=\"1742.476562\" xlink:href=\"#DejaVuSans-20\"/>\r\n     <use x=\"1774.263672\" xlink:href=\"#DejaVuSans-28\"/>\r\n     <use x=\"1813.277344\" xlink:href=\"#DejaVuSans-33\"/>\r\n     <use x=\"1876.900391\" xlink:href=\"#DejaVuSans-20\"/>\r\n     <use x=\"1908.6875\" xlink:href=\"#DejaVuSans-66\"/>\r\n     <use x=\"1943.892578\" xlink:href=\"#DejaVuSans-6f\"/>\r\n     <use x=\"2005.074219\" xlink:href=\"#DejaVuSans-6c\"/>\r\n     <use x=\"2032.857422\" xlink:href=\"#DejaVuSans-64\"/>\r\n     <use x=\"2096.333984\" xlink:href=\"#DejaVuSans-29\"/>\r\n     <use x=\"2135.347656\" xlink:href=\"#DejaVuSans-20\"/>\r\n     <use x=\"2167.134766\" xlink:href=\"#DejaVuSans-2d\"/>\r\n     <use x=\"2203.21875\" xlink:href=\"#DejaVuSans-20\"/>\r\n     <use x=\"2235.005859\" xlink:href=\"#DejaVuSans-38\"/>\r\n     <use x=\"2298.628906\" xlink:href=\"#DejaVuSans-68\"/>\r\n     <use x=\"2362.007812\" xlink:href=\"#DejaVuSans-20\"/>\r\n     <use x=\"2393.794922\" xlink:href=\"#DejaVuSans-2d\"/>\r\n     <use x=\"2429.878906\" xlink:href=\"#DejaVuSans-20\"/>\r\n     <use x=\"2461.666016\" xlink:href=\"#DejaVuSans-37\"/>\r\n     <use x=\"2525.289062\" xlink:href=\"#DejaVuSans-64\"/>\r\n     <use x=\"2588.765625\" xlink:href=\"#DejaVuSans-61\"/>\r\n     <use x=\"2650.044922\" xlink:href=\"#DejaVuSans-79\"/>\r\n     <use x=\"2709.224609\" xlink:href=\"#DejaVuSans-73\"/>\r\n    </g>\r\n   </g>\r\n  </g>\r\n </g>\r\n <defs>\r\n  <clipPath id=\"p46a4fe59bb\">\r\n   <rect height=\"326.16\" width=\"558\" x=\"36.465625\" y=\"22.318125\"/>\r\n  </clipPath>\r\n </defs>\r\n</svg>\r\n",
      "text/plain": [
       "<Figure size 720x432 with 1 Axes>"
      ]
     },
     "metadata": {
      "needs_background": "light"
     },
     "output_type": "display_data"
    }
   ],
   "source": [
    "import matplotlib.pyplot as plt\n",
    "\n",
    "x = ['32 units', '64 units', '128 units',\n",
    "     '32 units \\n Dropout + \\n Dense', '64 units \\n Dropout + \\n Dense', '128 units \\n Dropout + \\n Dense',\n",
    "     '32 units \\n Dropout + \\n  Dense + \\n BiLSTM', '64 units \\n Dropout + \\n Dense + \\n BiLSTM', '128 units \\n Dropout + \\n Dense + \\n BiLSTM']\n",
    "\n",
    "\n",
    "y = [np.mean([np.max(hist_1_layer[0].history['val_accuracy']),np.max(hist_1_layer[1].history['val_accuracy']),np.max(hist_1_layer[2].history['val_accuracy'])]),\n",
    "     np.mean([np.max(hist_1_layer[3].history['val_accuracy']),np.max(hist_1_layer[4].history['val_accuracy']),np.max(hist_1_layer[5].history['val_accuracy'])]),\n",
    "     np.mean([np.max(hist_1_layer[6].history['val_accuracy']),np.max(hist_1_layer[7].history['val_accuracy']),np.max(hist_1_layer[8].history['val_accuracy'])]),\n",
    "     np.mean([np.max(hist_1_layer_drop_fc[0].history['val_accuracy']),np.max(hist_1_layer_drop_fc[1].history['val_accuracy']),np.max(hist_1_layer_drop_fc[2].history['val_accuracy'])]),\n",
    "     np.mean([np.max(hist_1_layer_drop_fc[3].history['val_accuracy']),np.max(hist_1_layer_drop_fc[4].history['val_accuracy']),np.max(hist_1_layer_drop_fc[5].history['val_accuracy'])]),\n",
    "     np.mean([np.max(hist_1_layer_drop_fc[6].history['val_accuracy']),np.max(hist_1_layer_drop_fc[7].history['val_accuracy']),np.max(hist_1_layer_drop_fc[8].history['val_accuracy'])]),\n",
    "     np.mean([np.max(hist_1_layer_drop_fc_bi[0].history['val_accuracy']),np.max(hist_1_layer_drop_fc_bi[1].history['val_accuracy']),np.max(hist_1_layer_drop_fc_bi[2].history['val_accuracy'])]),\n",
    "     np.mean([np.max(hist_1_layer_drop_fc_bi[3].history['val_accuracy']),np.max(hist_1_layer_drop_fc_bi[4].history['val_accuracy']),np.max(hist_1_layer_drop_fc_bi[5].history['val_accuracy'])]),\n",
    "     np.mean([np.max(hist_1_layer_drop_fc_bi[6].history['val_accuracy']),np.max(hist_1_layer_drop_fc_bi[7].history['val_accuracy']),np.max(hist_1_layer_drop_fc_bi[8].history['val_accuracy'])])]\n",
    "    \n",
    "\n",
    "err= [np.std([np.max(hist_1_layer[0].history['val_accuracy']),np.max(hist_1_layer[1].history['val_accuracy']),np.max(hist_1_layer[2].history['val_accuracy'])]),\n",
    "     np.std([np.max(hist_1_layer[3].history['val_accuracy']),np.max(hist_1_layer[4].history['val_accuracy']),np.max(hist_1_layer[5].history['val_accuracy'])]),\n",
    "     np.std([np.max(hist_1_layer[6].history['val_accuracy']),np.max(hist_1_layer[7].history['val_accuracy']),np.max(hist_1_layer[8].history['val_accuracy'])]),\n",
    "     np.std([np.max(hist_1_layer_drop_fc[0].history['val_accuracy']),np.max(hist_1_layer_drop_fc[1].history['val_accuracy']),np.max(hist_1_layer_drop_fc[2].history['val_accuracy'])]),\n",
    "     np.std([np.max(hist_1_layer_drop_fc[3].history['val_accuracy']),np.max(hist_1_layer_drop_fc[4].history['val_accuracy']),np.max(hist_1_layer_drop_fc[5].history['val_accuracy'])]),\n",
    "     np.std([np.max(hist_1_layer_drop_fc[6].history['val_accuracy']),np.max(hist_1_layer_drop_fc[7].history['val_accuracy']),np.max(hist_1_layer_drop_fc[8].history['val_accuracy'])]),\n",
    "     np.std([np.max(hist_1_layer_drop_fc_bi[0].history['val_accuracy']),np.max(hist_1_layer_drop_fc_bi[1].history['val_accuracy']),np.max(hist_1_layer_drop_fc_bi[2].history['val_accuracy'])]),\n",
    "     np.std([np.max(hist_1_layer_drop_fc_bi[3].history['val_accuracy']),np.max(hist_1_layer_drop_fc_bi[4].history['val_accuracy']),np.max(hist_1_layer_drop_fc_bi[5].history['val_accuracy'])]),\n",
    "     np.std([np.max(hist_1_layer_drop_fc_bi[6].history['val_accuracy']),np.max(hist_1_layer_drop_fc_bi[7].history['val_accuracy']),np.max(hist_1_layer_drop_fc_bi[8].history['val_accuracy'])])]\n",
    "    \n",
    "\n",
    "plt.figure(figsize=(10, 6))\n",
    "plt.title('Mean Performance of 1 layer LSTM (3 fold) - 8h - 7days')\n",
    "plt.ylim([0.65,0.80])\n",
    "plt.grid()\n",
    "\n",
    "plt.bar(x, y, yerr=err)"
   ]
  },
  {
   "cell_type": "code",
   "execution_count": 14,
   "metadata": {},
   "outputs": [],
   "source": [
    "np.save(\"D:/.coding/means_stress.npy\", y)\n",
    "np.save(\"D:/.coding/error_stress.npy\", err)"
   ]
  },
  {
   "cell_type": "code",
   "execution_count": null,
   "metadata": {},
   "outputs": [],
   "source": [
    "hist_1_layer_drop_fc_bi=[]\n",
    "\n",
    "best_model = Sequential()\n",
    "best_model.add(Input(shape=X.shape[1:]))\n",
    "best_model.add(Bidirectional(LSTM(64, activation=\"tanh\", dropout=0.25, recurrent_dropout=0.25)))  #recurrent_dropout=0.25\n",
    "best_model.add(Dense(64, activation=\"relu\"))\n",
    "best_model.add(Dropout(0.25))\n",
    "\n",
    "best_model.add(Dense(1, activation=\"sigmoid\"))\n",
    "    \n",
    "best_model.compile(optimizer='adam', loss='binary_crossentropy', metrics=['accuracy'])\n",
    "        \n",
    "#x_train, y_train, x_test, y_test=create_balanced_test_split(X, y, test_size=1000, seed= 1)\n",
    "        \n",
    "history = best_model.fit(x=x_train,y=y_train,epochs=55,batch_size=32,\n",
    "                        validation_data=(x_test, y_test),shuffle=True,verbose=0)\n",
    "                \n",
    "print('max train accuracy : ' + str(np.max(history.history['accuracy'])))\n",
    "print('epoch : ' + str(np.argmax(history.history['accuracy'])+1))\n",
    "        \n",
    "print('max valid accuracy : ' + str(np.max(history.history['val_accuracy'])))\n",
    "print('epoch : ' + str(np.argmax(history.history['val_accuracy'])+1))\n",
    "        \n",
    "hist_1_layer_drop_fc_bi.append(history)"
   ]
  },
  {
   "cell_type": "code",
   "execution_count": null,
   "metadata": {},
   "outputs": [],
   "source": [
    "best_model.save(\"./model_logs/best_happy_LSTM\")"
   ]
  }
 ],
 "metadata": {
  "interpreter": {
   "hash": "de1e15777db83a4a38311ecc646d02ddde9c0d3bc45a52b7bb762b687e5b017a"
  },
  "kernelspec": {
   "display_name": "Python 3.9.1 64-bit ('base': conda)",
   "name": "python3"
  },
  "language_info": {
   "codemirror_mode": {
    "name": "ipython",
    "version": 3
   },
   "file_extension": ".py",
   "mimetype": "text/x-python",
   "name": "python",
   "nbconvert_exporter": "python",
   "pygments_lexer": "ipython3",
   "version": "3.9.1"
  }
 },
 "nbformat": 4,
 "nbformat_minor": 4
}
